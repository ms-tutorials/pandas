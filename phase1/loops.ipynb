{
 "cells": [
  {
   "cell_type": "markdown",
   "id": "a017e3be",
   "metadata": {},
   "source": [
    "# Loops in Python\n",
    "Loops are used to repeat a block of code multiple times. This notebook covers different types of loops and their applications."
   ]
  },
  {
   "cell_type": "markdown",
   "id": "285cbd9e",
   "metadata": {},
   "source": [
    "##   What Are Loops?"
   ]
  },
  {
   "cell_type": "markdown",
   "id": "56f83395",
   "metadata": {},
   "source": [
    "A loop is a way to tell the computer: \"Hey, do this task, and keep doing it until I say stop.\""
   ]
  },
  {
   "cell_type": "markdown",
   "id": "2493126b",
   "metadata": {},
   "source": [
    "In programming, loops help us:\n",
    "\n",
    "- Repeat tasks without copying and pasting code\n",
    "\n",
    "- Automate repetitive work\n",
    "\n",
    "- Handle large sets of data easily"
   ]
  },
  {
   "cell_type": "markdown",
   "id": "a8fcd2ba",
   "metadata": {},
   "source": []
  },
  {
   "cell_type": "code",
   "execution_count": 1,
   "id": "3c4b45f1",
   "metadata": {},
   "outputs": [
    {
     "name": "stdout",
     "output_type": "stream",
     "text": [
      "1\n",
      "Brushing teeth... round 1\n",
      "2\n",
      "Brushing teeth... round 2\n",
      "3\n",
      "Brushing teeth... round 3\n",
      "4\n",
      "Brushing teeth... round 4\n",
      "5\n",
      "Brushing teeth... round 5\n",
      "6\n",
      "Brushing teeth... round 6\n",
      "7\n",
      "Brushing teeth... round 7\n",
      "8\n",
      "Brushing teeth... round 8\n",
      "9\n",
      "Brushing teeth... round 9\n",
      "10\n",
      "Brushing teeth... round 10\n",
      "11\n",
      "Brushing teeth... round 11\n",
      "12\n",
      "Brushing teeth... round 12\n",
      "13\n",
      "Brushing teeth... round 13\n",
      "14\n",
      "Brushing teeth... round 14\n",
      "15\n",
      "Brushing teeth... round 15\n",
      "16\n",
      "Brushing teeth... round 16\n",
      "17\n",
      "Brushing teeth... round 17\n",
      "18\n",
      "Brushing teeth... round 18\n",
      "19\n",
      "Brushing teeth... round 19\n",
      "20\n",
      "Brushing teeth... round 20\n",
      "21\n",
      "Brushing teeth... round 21\n",
      "22\n",
      "Brushing teeth... round 22\n",
      "23\n",
      "Brushing teeth... round 23\n",
      "24\n",
      "Brushing teeth... round 24\n",
      "25\n",
      "Brushing teeth... round 25\n",
      "26\n",
      "Brushing teeth... round 26\n",
      "27\n",
      "Brushing teeth... round 27\n",
      "28\n",
      "Brushing teeth... round 28\n",
      "29\n",
      "Brushing teeth... round 29\n",
      "30\n",
      "Brushing teeth... round 30\n",
      "31\n",
      "Brushing teeth... round 31\n",
      "32\n",
      "Brushing teeth... round 32\n",
      "33\n",
      "Brushing teeth... round 33\n",
      "34\n",
      "Brushing teeth... round 34\n",
      "35\n",
      "Brushing teeth... round 35\n",
      "36\n",
      "Brushing teeth... round 36\n",
      "37\n",
      "Brushing teeth... round 37\n",
      "38\n",
      "Brushing teeth... round 38\n",
      "39\n",
      "Brushing teeth... round 39\n",
      "40\n",
      "Brushing teeth... round 40\n",
      "41\n",
      "Brushing teeth... round 41\n",
      "42\n",
      "Brushing teeth... round 42\n",
      "43\n",
      "Brushing teeth... round 43\n",
      "44\n",
      "Brushing teeth... round 44\n",
      "45\n",
      "Brushing teeth... round 45\n",
      "46\n",
      "Brushing teeth... round 46\n",
      "47\n",
      "Brushing teeth... round 47\n",
      "48\n",
      "Brushing teeth... round 48\n",
      "49\n",
      "Brushing teeth... round 49\n",
      "50\n",
      "Brushing teeth... round 50\n",
      "51\n",
      "Brushing teeth... round 51\n",
      "52\n",
      "Brushing teeth... round 52\n",
      "53\n",
      "Brushing teeth... round 53\n",
      "54\n",
      "Brushing teeth... round 54\n",
      "55\n",
      "Brushing teeth... round 55\n",
      "56\n",
      "Brushing teeth... round 56\n",
      "57\n",
      "Brushing teeth... round 57\n",
      "58\n",
      "Brushing teeth... round 58\n",
      "59\n",
      "Brushing teeth... round 59\n",
      "60\n",
      "Brushing teeth... round 60\n",
      "61\n",
      "Brushing teeth... round 61\n",
      "62\n",
      "Brushing teeth... round 62\n",
      "63\n",
      "Brushing teeth... round 63\n",
      "64\n",
      "Brushing teeth... round 64\n",
      "65\n",
      "Brushing teeth... round 65\n",
      "66\n",
      "Brushing teeth... round 66\n",
      "67\n",
      "Brushing teeth... round 67\n",
      "68\n",
      "Brushing teeth... round 68\n",
      "69\n",
      "Brushing teeth... round 69\n",
      "70\n",
      "Brushing teeth... round 70\n",
      "71\n",
      "Brushing teeth... round 71\n",
      "72\n",
      "Brushing teeth... round 72\n",
      "73\n",
      "Brushing teeth... round 73\n",
      "74\n",
      "Brushing teeth... round 74\n",
      "75\n",
      "Brushing teeth... round 75\n",
      "76\n",
      "Brushing teeth... round 76\n",
      "77\n",
      "Brushing teeth... round 77\n",
      "78\n",
      "Brushing teeth... round 78\n",
      "79\n",
      "Brushing teeth... round 79\n",
      "80\n",
      "Brushing teeth... round 80\n",
      "81\n",
      "Brushing teeth... round 81\n",
      "82\n",
      "Brushing teeth... round 82\n",
      "83\n",
      "Brushing teeth... round 83\n",
      "84\n",
      "Brushing teeth... round 84\n",
      "85\n",
      "Brushing teeth... round 85\n",
      "86\n",
      "Brushing teeth... round 86\n",
      "87\n",
      "Brushing teeth... round 87\n",
      "88\n",
      "Brushing teeth... round 88\n",
      "89\n",
      "Brushing teeth... round 89\n",
      "90\n",
      "Brushing teeth... round 90\n",
      "91\n",
      "Brushing teeth... round 91\n",
      "92\n",
      "Brushing teeth... round 92\n",
      "93\n",
      "Brushing teeth... round 93\n",
      "94\n",
      "Brushing teeth... round 94\n",
      "95\n",
      "Brushing teeth... round 95\n",
      "96\n",
      "Brushing teeth... round 96\n",
      "97\n",
      "Brushing teeth... round 97\n",
      "98\n",
      "Brushing teeth... round 98\n",
      "99\n",
      "Brushing teeth... round 99\n",
      "100\n",
      "Brushing teeth... round 100\n"
     ]
    }
   ],
   "source": [
    "numbers = [1,2,3,4,5,6,7,8]\n",
    "\n",
    "for number in range(1, 101):\n",
    "    print(number)\n",
    "    print(\"Brushing teeth... round\", number)"
   ]
  },
  {
   "cell_type": "markdown",
   "id": "cecf66ac",
   "metadata": {},
   "source": [
    "## The for Loop"
   ]
  },
  {
   "cell_type": "markdown",
   "id": "0de1c5fd",
   "metadata": {},
   "source": [
    "### The for Loop\n",
    "The `for` loop is used to iterate over a sequence (like a list or range) and execute a block of code for each element."
   ]
  },
  {
   "cell_type": "code",
   "execution_count": 3,
   "id": "f3a11829",
   "metadata": {},
   "outputs": [
    {
     "name": "stdout",
     "output_type": "stream",
     "text": [
      "1\n",
      "2\n",
      "3\n",
      "4\n",
      "5\n",
      "6\n",
      "7\n",
      "8\n",
      "9\n",
      "10\n",
      "11\n",
      "12\n",
      "13\n",
      "14\n",
      "15\n",
      "16\n",
      "17\n",
      "18\n",
      "19\n",
      "20\n",
      "21\n",
      "22\n",
      "23\n",
      "24\n",
      "25\n",
      "26\n",
      "27\n",
      "28\n",
      "29\n",
      "30\n",
      "31\n",
      "32\n",
      "33\n",
      "34\n",
      "35\n",
      "36\n",
      "37\n",
      "38\n",
      "39\n",
      "40\n",
      "41\n",
      "42\n",
      "43\n",
      "44\n",
      "45\n",
      "46\n",
      "47\n",
      "48\n",
      "49\n",
      "50\n"
     ]
    }
   ],
   "source": [
    "for i in range(1, 51):\n",
    "    print(i)\n",
    "\n"
   ]
  },
  {
   "cell_type": "code",
   "execution_count": null,
   "id": "9baa89a1",
   "metadata": {},
   "outputs": [],
   "source": [
    "for item in some_list:\n",
    "    # do something\n"
   ]
  },
  {
   "cell_type": "markdown",
   "id": "92b425a5",
   "metadata": {},
   "source": [
    "##  The while Loop"
   ]
  },
  {
   "cell_type": "markdown",
   "id": "50b6d7af",
   "metadata": {},
   "source": [
    "### The while Loop\n",
    "The `while` loop continues to execute a block of code as long as a specified condition is true."
   ]
  },
  {
   "cell_type": "code",
   "execution_count": 4,
   "id": "8d381d7b",
   "metadata": {},
   "outputs": [
    {
     "name": "stdout",
     "output_type": "stream",
     "text": [
      "Still alive! Lives left: 3\n",
      "Still alive! Lives left: 2\n",
      "Still alive! Lives left: 1\n"
     ]
    }
   ],
   "source": [
    "lives = 3\n",
    "\n",
    "while lives > 0:\n",
    "    print(\"Still alive! Lives left:\", lives)\n",
    "    lives -= 1"
   ]
  },
  {
   "cell_type": "markdown",
   "id": "6b778776",
   "metadata": {},
   "source": [
    "### Loop Control Statements"
   ]
  },
  {
   "cell_type": "markdown",
   "id": "d29ff28b",
   "metadata": {},
   "source": [
    "### Loop Control Statements\n",
    "Control statements like `break`, `continue`, and `pass` modify the behavior of loops."
   ]
  },
  {
   "cell_type": "markdown",
   "id": "a8f62e34",
   "metadata": {},
   "source": [
    "break – Stop the loop completely\n",
    "\n",
    "continue – Skip this round and go to the next\n",
    "\n",
    "pass – Do nothing (like a placeholder)\n",
    "\n",
    "else in a Loop: Executes when the loop completes normally (without a break)\n"
   ]
  },
  {
   "cell_type": "markdown",
   "id": "59c6058d",
   "metadata": {},
   "source": []
  },
  {
   "cell_type": "code",
   "execution_count": 5,
   "id": "706d1c27",
   "metadata": {},
   "outputs": [
    {
     "name": "stdout",
     "output_type": "stream",
     "text": [
      "1\n",
      "2\n",
      "3\n",
      "4\n"
     ]
    }
   ],
   "source": [
    "# break example\n",
    "for num in range(1, 11):\n",
    "    if num == 5:\n",
    "        break #breaks before 5\n",
    "    print(num)\n"
   ]
  },
  {
   "cell_type": "code",
   "execution_count": 6,
   "id": "4080f5f7",
   "metadata": {},
   "outputs": [
    {
     "name": "stdout",
     "output_type": "stream",
     "text": [
      "1\n",
      "2\n",
      "4\n",
      "5\n"
     ]
    }
   ],
   "source": [
    "# continue example\n",
    "for num in range(1, 6):\n",
    "    if num == 3:\n",
    "        continue #Skips 3\n",
    "    print(num)\n"
   ]
  },
  {
   "cell_type": "code",
   "execution_count": 7,
   "id": "669ae62c",
   "metadata": {},
   "outputs": [
    {
     "name": "stdout",
     "output_type": "stream",
     "text": [
      "p\n",
      "y\n",
      "t\n",
      "h\n",
      "o\n",
      "n\n"
     ]
    }
   ],
   "source": [
    "# pass example\n",
    "for letter in \"python\":\n",
    "    if letter == 'h':\n",
    "        pass  # Placeholder: we’re not doing anything here\n",
    "    print(letter)\n"
   ]
  },
  {
   "cell_type": "code",
   "execution_count": 8,
   "id": "1eecb497",
   "metadata": {},
   "outputs": [
    {
     "name": "stdout",
     "output_type": "stream",
     "text": [
      "The first even number is: 10\n"
     ]
    }
   ],
   "source": [
    "numbers = [1, 3, 5, 10, 11]\n",
    "for num in numbers:\n",
    "    if num % 2 == 0:\n",
    "        print(\"The first even number is:\", num)\n",
    "        break\n",
    "else:\n",
    "    print(\"No even numbers found.\")\n"
   ]
  }
 ],
 "metadata": {
  "kernelspec": {
   "display_name": "venv",
   "language": "python",
   "name": "python3"
  },
  "language_info": {
   "codemirror_mode": {
    "name": "ipython",
    "version": 3
   },
   "file_extension": ".py",
   "mimetype": "text/x-python",
   "name": "python",
   "nbconvert_exporter": "python",
   "pygments_lexer": "ipython3",
   "version": "3.12.0"
  }
 },
 "nbformat": 4,
 "nbformat_minor": 5
}
