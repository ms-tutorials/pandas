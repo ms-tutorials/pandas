{
 "cells": [
  {
   "cell_type": "markdown",
   "id": "d713fc79",
   "metadata": {},
   "source": [
    "# Aggregation in Pandas\n",
    "Aggregation is the process of summarizing data. In this notebook, we will explore how to group data and apply aggregation functions like sum, mean, and count."
   ]
  },
  {
   "cell_type": "markdown",
   "id": "f1805205",
   "metadata": {},
   "source": [
    "### Our Dataset"
   ]
  },
  {
   "cell_type": "code",
   "execution_count": 17,
   "id": "fa055fe8",
   "metadata": {},
   "outputs": [],
   "source": [
    "import matplotlib.pyplot as plt\n",
    "import pandas as pd"
   ]
  },
  {
   "cell_type": "code",
   "execution_count": 18,
   "id": "3728be38",
   "metadata": {},
   "outputs": [
    {
     "data": {
      "text/html": [
       "<div>\n",
       "<style scoped>\n",
       "    .dataframe tbody tr th:only-of-type {\n",
       "        vertical-align: middle;\n",
       "    }\n",
       "\n",
       "    .dataframe tbody tr th {\n",
       "        vertical-align: top;\n",
       "    }\n",
       "\n",
       "    .dataframe thead th {\n",
       "        text-align: right;\n",
       "    }\n",
       "</style>\n",
       "<table border=\"1\" class=\"dataframe\">\n",
       "  <thead>\n",
       "    <tr style=\"text-align: right;\">\n",
       "      <th></th>\n",
       "      <th>OrderID</th>\n",
       "      <th>Product</th>\n",
       "      <th>Category</th>\n",
       "      <th>Sales</th>\n",
       "      <th>Quantity</th>\n",
       "      <th>Region</th>\n",
       "    </tr>\n",
       "  </thead>\n",
       "  <tbody>\n",
       "    <tr>\n",
       "      <th>0</th>\n",
       "      <td>1</td>\n",
       "      <td>Apple</td>\n",
       "      <td>Fruit</td>\n",
       "      <td>100</td>\n",
       "      <td>1</td>\n",
       "      <td>East</td>\n",
       "    </tr>\n",
       "    <tr>\n",
       "      <th>1</th>\n",
       "      <td>2</td>\n",
       "      <td>Banana</td>\n",
       "      <td>Fruit</td>\n",
       "      <td>200</td>\n",
       "      <td>2</td>\n",
       "      <td>West</td>\n",
       "    </tr>\n",
       "    <tr>\n",
       "      <th>2</th>\n",
       "      <td>3</td>\n",
       "      <td>Apple</td>\n",
       "      <td>Fruit</td>\n",
       "      <td>150</td>\n",
       "      <td>1</td>\n",
       "      <td>East</td>\n",
       "    </tr>\n",
       "    <tr>\n",
       "      <th>3</th>\n",
       "      <td>4</td>\n",
       "      <td>Orange</td>\n",
       "      <td>Fruit</td>\n",
       "      <td>300</td>\n",
       "      <td>3</td>\n",
       "      <td>West</td>\n",
       "    </tr>\n",
       "    <tr>\n",
       "      <th>4</th>\n",
       "      <td>5</td>\n",
       "      <td>Banana</td>\n",
       "      <td>Fruit</td>\n",
       "      <td>120</td>\n",
       "      <td>1</td>\n",
       "      <td>West</td>\n",
       "    </tr>\n",
       "    <tr>\n",
       "      <th>5</th>\n",
       "      <td>6</td>\n",
       "      <td>Apple</td>\n",
       "      <td>Fruit</td>\n",
       "      <td>130</td>\n",
       "      <td>1</td>\n",
       "      <td>East</td>\n",
       "    </tr>\n",
       "    <tr>\n",
       "      <th>6</th>\n",
       "      <td>7</td>\n",
       "      <td>Orange</td>\n",
       "      <td>Fruit</td>\n",
       "      <td>250</td>\n",
       "      <td>2</td>\n",
       "      <td>East</td>\n",
       "    </tr>\n",
       "  </tbody>\n",
       "</table>\n",
       "</div>"
      ],
      "text/plain": [
       "   OrderID Product Category  Sales  Quantity Region\n",
       "0        1   Apple    Fruit    100         1   East\n",
       "1        2  Banana    Fruit    200         2   West\n",
       "2        3   Apple    Fruit    150         1   East\n",
       "3        4  Orange    Fruit    300         3   West\n",
       "4        5  Banana    Fruit    120         1   West\n",
       "5        6   Apple    Fruit    130         1   East\n",
       "6        7  Orange    Fruit    250         2   East"
      ]
     },
     "execution_count": 18,
     "metadata": {},
     "output_type": "execute_result"
    }
   ],
   "source": [
    "# Sample sales dataset\n",
    "data = {\n",
    "    'OrderID': [1, 2, 3, 4, 5, 6, 7],\n",
    "    'Product': ['Apple', 'Banana', 'Apple', 'Orange', 'Banana', 'Apple', 'Orange'],\n",
    "    'Category': ['Fruit', 'Fruit', 'Fruit', 'Fruit', 'Fruit', 'Fruit', 'Fruit'],\n",
    "    'Sales': [100, 200, 150, 300, 120, 130, 250],\n",
    "    'Quantity': [1, 2, 1, 3, 1, 1, 2],\n",
    "    'Region': ['East', 'West', 'East', 'West', 'West', 'East', 'East']\n",
    "}\n",
    "\n",
    "df = pd.DataFrame(data)\n",
    "df\n"
   ]
  },
  {
   "cell_type": "markdown",
   "id": "aeaf0f1c",
   "metadata": {},
   "source": [
    "#### Grouping by a Column\n",
    "Grouping allows us to split the data into subsets based on a column's values. This is useful for applying aggregate functions to each group."
   ]
  },
  {
   "cell_type": "code",
   "execution_count": 7,
   "id": "4d59c4ac",
   "metadata": {},
   "outputs": [
    {
     "name": "stdout",
     "output_type": "stream",
     "text": [
      "<pandas.core.groupby.generic.DataFrameGroupBy object at 0x000001C587F6BDA0>\n"
     ]
    }
   ],
   "source": [
    "grouped = df.groupby('Product')\n",
    "print(grouped)\n"
   ]
  },
  {
   "cell_type": "markdown",
   "id": "8e58d30d",
   "metadata": {},
   "source": [
    "#### Total Sales per product:\n",
    "Here, we calculate the total sales for each product by grouping the data by the 'Product' column and summing the 'Sales' column."
   ]
  },
  {
   "cell_type": "code",
   "execution_count": 8,
   "id": "a9bc57e3",
   "metadata": {},
   "outputs": [
    {
     "name": "stdout",
     "output_type": "stream",
     "text": [
      "Product\n",
      "Apple     380\n",
      "Banana    320\n",
      "Orange    550\n",
      "Name: Sales, dtype: int64\n"
     ]
    }
   ],
   "source": [
    "sales_by_product = df.groupby('Product')['Sales'].sum()\n",
    "print(sales_by_product)\n"
   ]
  },
  {
   "cell_type": "markdown",
   "id": "bf6887b0",
   "metadata": {},
   "source": [
    "#### Multiple Aggregations\n",
    "We can apply multiple aggregation functions, such as sum and mean, to different columns simultaneously."
   ]
  },
  {
   "cell_type": "code",
   "execution_count": 9,
   "id": "f2909f50",
   "metadata": {},
   "outputs": [
    {
     "data": {
      "text/html": [
       "<div>\n",
       "<style scoped>\n",
       "    .dataframe tbody tr th:only-of-type {\n",
       "        vertical-align: middle;\n",
       "    }\n",
       "\n",
       "    .dataframe tbody tr th {\n",
       "        vertical-align: top;\n",
       "    }\n",
       "\n",
       "    .dataframe thead th {\n",
       "        text-align: right;\n",
       "    }\n",
       "</style>\n",
       "<table border=\"1\" class=\"dataframe\">\n",
       "  <thead>\n",
       "    <tr style=\"text-align: right;\">\n",
       "      <th></th>\n",
       "      <th>Sales</th>\n",
       "      <th>Quantity</th>\n",
       "    </tr>\n",
       "    <tr>\n",
       "      <th>Product</th>\n",
       "      <th></th>\n",
       "      <th></th>\n",
       "    </tr>\n",
       "  </thead>\n",
       "  <tbody>\n",
       "    <tr>\n",
       "      <th>Apple</th>\n",
       "      <td>380</td>\n",
       "      <td>3</td>\n",
       "    </tr>\n",
       "    <tr>\n",
       "      <th>Banana</th>\n",
       "      <td>320</td>\n",
       "      <td>3</td>\n",
       "    </tr>\n",
       "    <tr>\n",
       "      <th>Orange</th>\n",
       "      <td>550</td>\n",
       "      <td>5</td>\n",
       "    </tr>\n",
       "  </tbody>\n",
       "</table>\n",
       "</div>"
      ],
      "text/plain": [
       "         Sales  Quantity\n",
       "Product                 \n",
       "Apple      380         3\n",
       "Banana     320         3\n",
       "Orange     550         5"
      ]
     },
     "execution_count": 9,
     "metadata": {},
     "output_type": "execute_result"
    }
   ],
   "source": [
    "df.groupby('Product')[['Sales', 'Quantity']].sum()\n"
   ]
  },
  {
   "cell_type": "markdown",
   "id": "b04fd97f",
   "metadata": {},
   "source": [
    "#### Using Other Aggregation Functions"
   ]
  },
  {
   "cell_type": "code",
   "execution_count": 10,
   "id": "e986e76e",
   "metadata": {},
   "outputs": [
    {
     "data": {
      "text/plain": [
       "Product\n",
       "Apple     126.666667\n",
       "Banana    160.000000\n",
       "Orange    275.000000\n",
       "Name: Sales, dtype: float64"
      ]
     },
     "execution_count": 10,
     "metadata": {},
     "output_type": "execute_result"
    }
   ],
   "source": [
    "df.groupby('Product')['Sales'].mean()\n"
   ]
  },
  {
   "cell_type": "markdown",
   "id": "5df435f6",
   "metadata": {},
   "source": [
    "####  Grouping by Multiple Columns"
   ]
  },
  {
   "cell_type": "code",
   "execution_count": 11,
   "id": "9022f01e",
   "metadata": {},
   "outputs": [
    {
     "data": {
      "text/plain": [
       "Region  Product\n",
       "East    Apple      380\n",
       "        Orange     250\n",
       "West    Banana     320\n",
       "        Orange     300\n",
       "Name: Sales, dtype: int64"
      ]
     },
     "execution_count": 11,
     "metadata": {},
     "output_type": "execute_result"
    }
   ],
   "source": [
    "df.groupby(['Region', 'Product'])['Sales'].sum()\n"
   ]
  },
  {
   "cell_type": "markdown",
   "id": "7612e92f",
   "metadata": {},
   "source": [
    "#### Slicing Grouped Data"
   ]
  },
  {
   "cell_type": "code",
   "execution_count": 14,
   "id": "f1d81929",
   "metadata": {},
   "outputs": [
    {
     "name": "stdout",
     "output_type": "stream",
     "text": [
      "300\n"
     ]
    }
   ],
   "source": [
    "grouped = df.groupby(['Region', 'Product'])['Sales'].sum()\n",
    "print(grouped['West']['Orange'])\n"
   ]
  },
  {
   "cell_type": "markdown",
   "id": "a1416700",
   "metadata": {},
   "source": [
    "#### Visualizing Aggregated Data\n",
    "Visualizations help us better understand aggregated data. Here, we use a bar chart to display total sales by product."
   ]
  },
  {
   "cell_type": "code",
   "execution_count": 19,
   "id": "7f57c943",
   "metadata": {},
   "outputs": [
    {
     "data": {
      "image/png": "[encoded data removed]",
      "text/plain": [
       "<Figure size 640x480 with 1 Axes>"
      ]
     },
     "metadata": {},
     "output_type": "display_data"
    }
   ],
   "source": [
    "sales_by_product = df.groupby('Product')['Sales'].sum()\n",
    "sales_by_product.plot(kind='bar', title='Total Sales by Product')\n",
    "plt.xlabel('Product')\n",
    "plt.ylabel('Total Sales')\n",
    "plt.show()\n"
   ]
  }
 ],
 "metadata": {
  "kernelspec": {
   "display_name": "venv",
   "language": "python",
   "name": "python3"
  },
  "language_info": {
   "codemirror_mode": {
    "name": "ipython",
    "version": 3
   },
   "file_extension": ".py",
   "mimetype": "text/x-python",
   "name": "python",
   "nbconvert_exporter": "python",
   "pygments_lexer": "ipython3",
   "version": "3.12.0"
  }
 },
 "nbformat": 4,
 "nbformat_minor": 5
}
