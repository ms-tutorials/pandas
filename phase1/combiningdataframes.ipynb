{
 "cells": [
  {
   "cell_type": "markdown",
   "id": "52d868e5",
   "metadata": {},
   "source": [
    "# Combining DataFrames\n",
    "In this notebook, we will learn how to combine multiple DataFrames using techniques like concatenation and joins."
   ]
  },
  {
   "cell_type": "markdown",
   "id": "e2c6583e",
   "metadata": {},
   "source": [
    "### Combining DataFrames with Pandas"
   ]
  },
  {
   "cell_type": "code",
   "execution_count": 2,
   "id": "13d2f3a4",
   "metadata": {},
   "outputs": [],
   "source": [
    "import pandas as pd\n"
   ]
  },
  {
   "cell_type": "code",
   "execution_count": 12,
   "id": "3e7e2c6b",
   "metadata": {},
   "outputs": [],
   "source": [
    "\n",
    "# DataFrame 1: Sales from East region\n",
    "df_east = pd.DataFrame({\n",
    "    'OrderID': [101, 102],\n",
    "    'Product': ['Printer', 'Desk'],\n",
    "    'Category': ['Office Supplies', 'Furniture'],\n",
    "    'Sales': [250, 300],\n",
    "    'Quantity': [2, 1],\n",
    "    'Region': ['East', 'East']\n",
    "})\n",
    "\n",
    "# DataFrame 2: Sales from West region\n",
    "df_west = pd.DataFrame({\n",
    "    'OrderID': [103, 104],\n",
    "    'Product': ['Chair', 'Monitor'],\n",
    "    'Category': ['Furniture', 'Technology'],\n",
    "    'Sales': [150, 400],\n",
    "    'Quantity': [3, 2],\n",
    "    'Region': ['West', 'West']\n",
    "})\n"
   ]
  },
  {
   "cell_type": "markdown",
   "id": "ba33f6c5",
   "metadata": {},
   "source": [
    "### Concatenating DataFrames\n",
    "Concatenation is a simple way to combine DataFrames by stacking them either vertically or horizontally."
   ]
  },
  {
   "cell_type": "code",
   "execution_count": 13,
   "id": "c751658a",
   "metadata": {},
   "outputs": [
    {
     "name": "stdout",
     "output_type": "stream",
     "text": [
      "   OrderID  Product         Category  Sales  Quantity Region\n",
      "0      101  Printer  Office Supplies    250         2   East\n",
      "1      102     Desk        Furniture    300         1   East\n",
      "0      103    Chair        Furniture    150         3   West\n",
      "1      104  Monitor       Technology    400         2   West\n"
     ]
    }
   ],
   "source": [
    "combined_df = pd.concat([df_east, df_west])\n",
    "print(combined_df)"
   ]
  },
  {
   "cell_type": "markdown",
   "id": "bc197d98",
   "metadata": {},
   "source": [
    "### Setting an Index\n"
   ]
  },
  {
   "cell_type": "code",
   "execution_count": 14,
   "id": "3e743eed",
   "metadata": {},
   "outputs": [
    {
     "name": "stdout",
     "output_type": "stream",
     "text": [
      "         Product         Category  Sales  Quantity Region\n",
      "OrderID                                                  \n",
      "101      Printer  Office Supplies    250         2   East\n",
      "102         Desk        Furniture    300         1   East\n",
      "103        Chair        Furniture    150         3   West\n",
      "104      Monitor       Technology    400         2   West\n"
     ]
    }
   ],
   "source": [
    "# Set OrderID as the index\n",
    "combined_df.set_index('OrderID', inplace=True)\n",
    "print(combined_df)\n"
   ]
  },
  {
   "cell_type": "markdown",
   "id": "83647b1e",
   "metadata": {},
   "source": [
    "### Types of Joins\n",
    "Joins allow us to combine DataFrames based on a common key. Different types of joins (inner, left, right, outer) determine how the data is merged."
   ]
  },
  {
   "cell_type": "code",
   "execution_count": 9,
   "id": "d2bd86ea",
   "metadata": {},
   "outputs": [
    {
     "data": {
      "text/html": [
       "<div>\n",
       "<style scoped>\n",
       "    .dataframe tbody tr th:only-of-type {\n",
       "        vertical-align: middle;\n",
       "    }\n",
       "\n",
       "    .dataframe tbody tr th {\n",
       "        vertical-align: top;\n",
       "    }\n",
       "\n",
       "    .dataframe thead th {\n",
       "        text-align: right;\n",
       "    }\n",
       "</style>\n",
       "<table border=\"1\" class=\"dataframe\">\n",
       "  <thead>\n",
       "    <tr style=\"text-align: right;\">\n",
       "      <th></th>\n",
       "      <th>ShipDate</th>\n",
       "      <th>Carrier</th>\n",
       "    </tr>\n",
       "    <tr>\n",
       "      <th>OrderID</th>\n",
       "      <th></th>\n",
       "      <th></th>\n",
       "    </tr>\n",
       "  </thead>\n",
       "  <tbody>\n",
       "    <tr>\n",
       "      <th>101</th>\n",
       "      <td>2024-04-01</td>\n",
       "      <td>UPS</td>\n",
       "    </tr>\n",
       "    <tr>\n",
       "      <th>102</th>\n",
       "      <td>2024-04-03</td>\n",
       "      <td>FedEx</td>\n",
       "    </tr>\n",
       "    <tr>\n",
       "      <th>104</th>\n",
       "      <td>2024-04-05</td>\n",
       "      <td>DHL</td>\n",
       "    </tr>\n",
       "    <tr>\n",
       "      <th>105</th>\n",
       "      <td>2024-04-07</td>\n",
       "      <td>USPS</td>\n",
       "    </tr>\n",
       "  </tbody>\n",
       "</table>\n",
       "</div>"
      ],
      "text/plain": [
       "           ShipDate Carrier\n",
       "OrderID                    \n",
       "101      2024-04-01     UPS\n",
       "102      2024-04-03   FedEx\n",
       "104      2024-04-05     DHL\n",
       "105      2024-04-07    USPS"
      ]
     },
     "execution_count": 9,
     "metadata": {},
     "output_type": "execute_result"
    }
   ],
   "source": [
    "shipping_info = pd.DataFrame({\n",
    "    'OrderID': [101, 102, 104, 105],\n",
    "    'ShipDate': ['2024-04-01', '2024-04-03', '2024-04-05', '2024-04-07'],\n",
    "    'Carrier': ['UPS', 'FedEx', 'DHL', 'USPS']\n",
    "}).set_index('OrderID')\n",
    "\n",
    "shipping_info\n"
   ]
  },
  {
   "cell_type": "markdown",
   "id": "b7af5bfb",
   "metadata": {},
   "source": [
    "### Inner Join"
   ]
  },
  {
   "cell_type": "code",
   "execution_count": 10,
   "id": "f44d54eb",
   "metadata": {},
   "outputs": [
    {
     "data": {
      "text/html": [
       "<div>\n",
       "<style scoped>\n",
       "    .dataframe tbody tr th:only-of-type {\n",
       "        vertical-align: middle;\n",
       "    }\n",
       "\n",
       "    .dataframe tbody tr th {\n",
       "        vertical-align: top;\n",
       "    }\n",
       "\n",
       "    .dataframe thead th {\n",
       "        text-align: right;\n",
       "    }\n",
       "</style>\n",
       "<table border=\"1\" class=\"dataframe\">\n",
       "  <thead>\n",
       "    <tr style=\"text-align: right;\">\n",
       "      <th></th>\n",
       "      <th>Product</th>\n",
       "      <th>Category</th>\n",
       "      <th>Sales</th>\n",
       "      <th>Quantity</th>\n",
       "      <th>Region</th>\n",
       "      <th>ShipDate</th>\n",
       "      <th>Carrier</th>\n",
       "    </tr>\n",
       "    <tr>\n",
       "      <th>OrderID</th>\n",
       "      <th></th>\n",
       "      <th></th>\n",
       "      <th></th>\n",
       "      <th></th>\n",
       "      <th></th>\n",
       "      <th></th>\n",
       "      <th></th>\n",
       "    </tr>\n",
       "  </thead>\n",
       "  <tbody>\n",
       "    <tr>\n",
       "      <th>101</th>\n",
       "      <td>Printer</td>\n",
       "      <td>Office Supplies</td>\n",
       "      <td>250</td>\n",
       "      <td>2</td>\n",
       "      <td>East</td>\n",
       "      <td>2024-04-01</td>\n",
       "      <td>UPS</td>\n",
       "    </tr>\n",
       "    <tr>\n",
       "      <th>102</th>\n",
       "      <td>Desk</td>\n",
       "      <td>Furniture</td>\n",
       "      <td>300</td>\n",
       "      <td>1</td>\n",
       "      <td>East</td>\n",
       "      <td>2024-04-03</td>\n",
       "      <td>FedEx</td>\n",
       "    </tr>\n",
       "    <tr>\n",
       "      <th>104</th>\n",
       "      <td>Monitor</td>\n",
       "      <td>Technology</td>\n",
       "      <td>400</td>\n",
       "      <td>2</td>\n",
       "      <td>West</td>\n",
       "      <td>2024-04-05</td>\n",
       "      <td>DHL</td>\n",
       "    </tr>\n",
       "  </tbody>\n",
       "</table>\n",
       "</div>"
      ],
      "text/plain": [
       "         Product         Category  Sales  Quantity Region    ShipDate Carrier\n",
       "OrderID                                                                      \n",
       "101      Printer  Office Supplies    250         2   East  2024-04-01     UPS\n",
       "102         Desk        Furniture    300         1   East  2024-04-03   FedEx\n",
       "104      Monitor       Technology    400         2   West  2024-04-05     DHL"
      ]
     },
     "execution_count": 10,
     "metadata": {},
     "output_type": "execute_result"
    }
   ],
   "source": [
    "inner_joined = combined_df.join(shipping_info, how='inner')\n",
    "inner_joined\n"
   ]
  },
  {
   "cell_type": "markdown",
   "id": "de4ec95c",
   "metadata": {},
   "source": [
    "### Left Join"
   ]
  },
  {
   "cell_type": "code",
   "execution_count": 15,
   "id": "afe0bd9b",
   "metadata": {},
   "outputs": [
    {
     "name": "stdout",
     "output_type": "stream",
     "text": [
      "         Product         Category  Sales  Quantity Region    ShipDate Carrier\n",
      "OrderID                                                                      \n",
      "101      Printer  Office Supplies    250         2   East  2024-04-01     UPS\n",
      "102         Desk        Furniture    300         1   East  2024-04-03   FedEx\n",
      "103        Chair        Furniture    150         3   West         NaN     NaN\n",
      "104      Monitor       Technology    400         2   West  2024-04-05     DHL\n"
     ]
    }
   ],
   "source": [
    "left_joined = combined_df.join(shipping_info, how='left')\n",
    "print(left_joined)\n"
   ]
  },
  {
   "cell_type": "markdown",
   "id": "33c79144",
   "metadata": {},
   "source": [
    "### Right Join"
   ]
  },
  {
   "cell_type": "code",
   "execution_count": 16,
   "id": "212fe949",
   "metadata": {},
   "outputs": [
    {
     "name": "stdout",
     "output_type": "stream",
     "text": [
      "         Product         Category  Sales  Quantity Region    ShipDate Carrier\n",
      "OrderID                                                                      \n",
      "101      Printer  Office Supplies  250.0       2.0   East  2024-04-01     UPS\n",
      "102         Desk        Furniture  300.0       1.0   East  2024-04-03   FedEx\n",
      "104      Monitor       Technology  400.0       2.0   West  2024-04-05     DHL\n",
      "105          NaN              NaN    NaN       NaN    NaN  2024-04-07    USPS\n"
     ]
    }
   ],
   "source": [
    "right_joined = combined_df.join(shipping_info, how='right')\n",
    "print(right_joined)\n"
   ]
  },
  {
   "cell_type": "markdown",
   "id": "007a95a8",
   "metadata": {},
   "source": [
    "### Outer Join"
   ]
  },
  {
   "cell_type": "code",
   "execution_count": 17,
   "id": "1bc0f2a8",
   "metadata": {},
   "outputs": [
    {
     "name": "stdout",
     "output_type": "stream",
     "text": [
      "         Product         Category  Sales  Quantity Region    ShipDate Carrier\n",
      "OrderID                                                                      \n",
      "101      Printer  Office Supplies  250.0       2.0   East  2024-04-01     UPS\n",
      "102         Desk        Furniture  300.0       1.0   East  2024-04-03   FedEx\n",
      "103        Chair        Furniture  150.0       3.0   West         NaN     NaN\n",
      "104      Monitor       Technology  400.0       2.0   West  2024-04-05     DHL\n",
      "105          NaN              NaN    NaN       NaN    NaN  2024-04-07    USPS\n"
     ]
    }
   ],
   "source": [
    "outer_joined = combined_df.join(shipping_info, how='outer')\n",
    "print(outer_joined)"
   ]
  },
  {
   "cell_type": "markdown",
   "id": "1116782c",
   "metadata": {},
   "source": [
    "### Handling Column Name Collisions\n",
    "When combining DataFrames, column name collisions can occur. We can resolve this by using suffixes to differentiate columns."
   ]
  },
  {
   "cell_type": "code",
   "execution_count": 21,
   "id": "c796a6d6",
   "metadata": {},
   "outputs": [
    {
     "data": {
      "text/html": [
       "<div>\n",
       "<style scoped>\n",
       "    .dataframe tbody tr th:only-of-type {\n",
       "        vertical-align: middle;\n",
       "    }\n",
       "\n",
       "    .dataframe tbody tr th {\n",
       "        vertical-align: top;\n",
       "    }\n",
       "\n",
       "    .dataframe thead th {\n",
       "        text-align: right;\n",
       "    }\n",
       "</style>\n",
       "<table border=\"1\" class=\"dataframe\">\n",
       "  <thead>\n",
       "    <tr style=\"text-align: right;\">\n",
       "      <th></th>\n",
       "      <th>Product_original</th>\n",
       "      <th>Category_original</th>\n",
       "      <th>Sales_original</th>\n",
       "      <th>Quantity_original</th>\n",
       "      <th>Region_original</th>\n",
       "      <th>Product_summary</th>\n",
       "      <th>Category_summary</th>\n",
       "      <th>Sales_summary</th>\n",
       "      <th>Quantity_summary</th>\n",
       "      <th>Region_summary</th>\n",
       "    </tr>\n",
       "    <tr>\n",
       "      <th>OrderID</th>\n",
       "      <th></th>\n",
       "      <th></th>\n",
       "      <th></th>\n",
       "      <th></th>\n",
       "      <th></th>\n",
       "      <th></th>\n",
       "      <th></th>\n",
       "      <th></th>\n",
       "      <th></th>\n",
       "      <th></th>\n",
       "    </tr>\n",
       "  </thead>\n",
       "  <tbody>\n",
       "    <tr>\n",
       "      <th>101</th>\n",
       "      <td>Printer</td>\n",
       "      <td>Office Supplies</td>\n",
       "      <td>250</td>\n",
       "      <td>2</td>\n",
       "      <td>East</td>\n",
       "      <td>Printer</td>\n",
       "      <td>Office Supplies</td>\n",
       "      <td>500</td>\n",
       "      <td>2</td>\n",
       "      <td>East</td>\n",
       "    </tr>\n",
       "    <tr>\n",
       "      <th>102</th>\n",
       "      <td>Desk</td>\n",
       "      <td>Furniture</td>\n",
       "      <td>300</td>\n",
       "      <td>1</td>\n",
       "      <td>East</td>\n",
       "      <td>Desk</td>\n",
       "      <td>Furniture</td>\n",
       "      <td>600</td>\n",
       "      <td>1</td>\n",
       "      <td>East</td>\n",
       "    </tr>\n",
       "    <tr>\n",
       "      <th>103</th>\n",
       "      <td>Chair</td>\n",
       "      <td>Furniture</td>\n",
       "      <td>150</td>\n",
       "      <td>3</td>\n",
       "      <td>West</td>\n",
       "      <td>Chair</td>\n",
       "      <td>Furniture</td>\n",
       "      <td>300</td>\n",
       "      <td>3</td>\n",
       "      <td>West</td>\n",
       "    </tr>\n",
       "    <tr>\n",
       "      <th>104</th>\n",
       "      <td>Monitor</td>\n",
       "      <td>Technology</td>\n",
       "      <td>400</td>\n",
       "      <td>2</td>\n",
       "      <td>West</td>\n",
       "      <td>Monitor</td>\n",
       "      <td>Technology</td>\n",
       "      <td>400</td>\n",
       "      <td>2</td>\n",
       "      <td>West</td>\n",
       "    </tr>\n",
       "  </tbody>\n",
       "</table>\n",
       "</div>"
      ],
      "text/plain": [
       "        Product_original Category_original  Sales_original  Quantity_original  \\\n",
       "OrderID                                                                         \n",
       "101              Printer   Office Supplies             250                  2   \n",
       "102                 Desk         Furniture             300                  1   \n",
       "103                Chair         Furniture             150                  3   \n",
       "104              Monitor        Technology             400                  2   \n",
       "\n",
       "        Region_original Product_summary Category_summary  Sales_summary  \\\n",
       "OrderID                                                                   \n",
       "101                East         Printer  Office Supplies            500   \n",
       "102                East            Desk        Furniture            600   \n",
       "103                West           Chair        Furniture            300   \n",
       "104                West         Monitor       Technology            400   \n",
       "\n",
       "         Quantity_summary Region_summary  \n",
       "OrderID                                   \n",
       "101                     2           East  \n",
       "102                     1           East  \n",
       "103                     3           West  \n",
       "104                     2           West  "
      ]
     },
     "execution_count": 21,
     "metadata": {},
     "output_type": "execute_result"
    }
   ],
   "source": [
    "sales_summary = combined_df.copy()\n",
    "sales_summary['Sales'] = [500, 600, 300, 400]  # Example for duplicate 'Sales'\n",
    "\n",
    "# Avoid conflict with suffixes\n",
    "joined = combined_df.join(sales_summary, lsuffix='_original', rsuffix='_summary')\n",
    "joined\n"
   ]
  }
 ],
 "metadata": {
  "kernelspec": {
   "display_name": "venv",
   "language": "python",
   "name": "python3"
  },
  "language_info": {
   "codemirror_mode": {
    "name": "ipython",
    "version": 3
   },
   "file_extension": ".py",
   "mimetype": "text/x-python",
   "name": "python",
   "nbconvert_exporter": "python",
   "pygments_lexer": "ipython3",
   "version": "3.12.0"
  }
 },
 "nbformat": 4,
 "nbformat_minor": 5
}
