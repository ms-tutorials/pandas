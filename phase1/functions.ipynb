{
 "cells": [
  {
   "cell_type": "markdown",
   "id": "b95db575",
   "metadata": {},
   "source": [
    "# Functions in Python\n",
    "Functions are reusable blocks of code that perform specific tasks. This notebook will cover how to define, call, and use functions effectively."
   ]
  },
  {
   "cell_type": "markdown",
   "id": "76366385",
   "metadata": {},
   "source": [
    "## What is a Function in Python?"
   ]
  },
  {
   "cell_type": "markdown",
   "id": "118ea996",
   "metadata": {},
   "source": [
    "In programming, a function is a reusable block of code that does something specific."
   ]
  },
  {
   "cell_type": "markdown",
   "id": "460f73a8",
   "metadata": {},
   "source": [
    "Why do we use them?\n",
    "\n",
    "- To avoid repeating code\n",
    "\n",
    "- To make code easier to understand\n",
    "\n",
    "- To break down big problems into smaller pieces"
   ]
  },
  {
   "cell_type": "code",
   "execution_count": null,
   "id": "cf2685db",
   "metadata": {},
   "outputs": [
    {
     "data": {
      "text/plain": [
       "3"
      ]
     },
     "execution_count": 1,
     "metadata": {},
     "output_type": "execute_result"
    }
   ],
   "source": [
    "def add(a, b):\n",
    "    return a + b\n",
    "\n",
    "add(1,2)\n",
    "\n",
    "\n",
    "#Single Responsibility"
   ]
  },
  {
   "cell_type": "code",
   "execution_count": 2,
   "id": "5b39a835",
   "metadata": {},
   "outputs": [
    {
     "name": "stdout",
     "output_type": "stream",
     "text": [
      "Hello, welcome to class!\n"
     ]
    }
   ],
   "source": [
    "# Defining a function\n",
    "def greet():\n",
    "    print(\"Hello, welcome to class!\")\n",
    "\n",
    "# Calling the function\n",
    "greet()\n"
   ]
  },
  {
   "cell_type": "markdown",
   "id": "c02fe47c",
   "metadata": {},
   "source": [
    "### Functions with Parameters\n",
    "Parameters allow functions to accept input values, making them more flexible and reusable."
   ]
  },
  {
   "cell_type": "code",
   "execution_count": 3,
   "id": "798cf861",
   "metadata": {},
   "outputs": [
    {
     "name": "stdout",
     "output_type": "stream",
     "text": [
      "Hello Alice - welcome to class!\n",
      "Hello Bob - welcome to class!\n"
     ]
    }
   ],
   "source": [
    "def greet(name):\n",
    "    print(\"Hello\", name, \"- welcome to class!\")\n",
    "\n",
    "greet(\"Alice\")\n",
    "greet(\"Bob\")"
   ]
  },
  {
   "cell_type": "code",
   "execution_count": 4,
   "id": "afc1c4d4",
   "metadata": {},
   "outputs": [
    {
     "name": "stdout",
     "output_type": "stream",
     "text": [
      "My name is Tom and I am 20 years old.\n",
      "My name is Alice and I am 25 years old.\n"
     ]
    }
   ],
   "source": [
    "def introduce(name, age):\n",
    "    print(f\"My name is {name} and I am {age} years old.\")\n",
    "\n",
    "introduce(\"Tom\", 20)\n",
    "introduce(\"Alice\", 25)\n"
   ]
  },
  {
   "cell_type": "markdown",
   "id": "1595b01f",
   "metadata": {},
   "source": [
    "### Functions That Return Values"
   ]
  },
  {
   "cell_type": "code",
   "execution_count": 5,
   "id": "d23ab2ca",
   "metadata": {},
   "outputs": [
    {
     "name": "stdout",
     "output_type": "stream",
     "text": [
      "The result is: 8\n"
     ]
    }
   ],
   "source": [
    "def add(x, y):\n",
    "    return x + y\n",
    "\n",
    "result = add(3, 5)\n",
    "print(\"The result is:\", result)\n"
   ]
  },
  {
   "cell_type": "markdown",
   "id": "6a46e715",
   "metadata": {},
   "source": [
    "### Real-Life Use Case: Cleaning Data"
   ]
  },
  {
   "cell_type": "code",
   "execution_count": 6,
   "id": "5a64533c",
   "metadata": {},
   "outputs": [
    {
     "name": "stdout",
     "output_type": "stream",
     "text": [
      "['Alice', 'Bob', 'Charlie']\n"
     ]
    }
   ],
   "source": [
    "def clean_name(name):\n",
    "    return name.strip().title()\n",
    "\n",
    "names = [\" alice \", \"BOB\", \"   charLie\"]\n",
    "cleaned = [clean_name(n) for n in names]\n",
    "print(cleaned)\n"
   ]
  },
  {
   "cell_type": "markdown",
   "id": "dcf39812",
   "metadata": {},
   "source": [
    "###  Lambda Functions\n",
    "Lambda functions are anonymous functions defined using the `lambda` keyword. They are useful for short, simple operations."
   ]
  },
  {
   "cell_type": "markdown",
   "id": "45a34b9e",
   "metadata": {},
   "source": [
    "Normal Function"
   ]
  },
  {
   "cell_type": "code",
   "execution_count": 11,
   "id": "f77ccfc6",
   "metadata": {},
   "outputs": [
    {
     "data": {
      "text/plain": [
       "4"
      ]
     },
     "execution_count": 11,
     "metadata": {},
     "output_type": "execute_result"
    }
   ],
   "source": [
    "def square(x):\n",
    "    return x * x\n",
    "\n",
    "\n",
    "square(2)\n"
   ]
  },
  {
   "cell_type": "markdown",
   "id": "970bf1e7",
   "metadata": {},
   "source": [
    "Lambda Function"
   ]
  },
  {
   "cell_type": "code",
   "execution_count": 13,
   "id": "ab8ef52d",
   "metadata": {},
   "outputs": [
    {
     "data": {
      "text/plain": [
       "4"
      ]
     },
     "execution_count": 13,
     "metadata": {},
     "output_type": "execute_result"
    }
   ],
   "source": [
    "square = lambda x: x * x\n",
    "\n",
    "square(2)\n",
    "\n",
    "#Syntactic Sugar"
   ]
  },
  {
   "cell_type": "code",
   "execution_count": 14,
   "id": "4bb098e5",
   "metadata": {},
   "outputs": [
    {
     "name": "stdout",
     "output_type": "stream",
     "text": [
      "[1, 4, 9, 16]\n"
     ]
    }
   ],
   "source": [
    "numbers = [1, 2, 3, 4]\n",
    "squared = list(map(lambda x: x ** 2, numbers))\n",
    "print(squared)\n"
   ]
  },
  {
   "cell_type": "code",
   "execution_count": 16,
   "id": "bcd9ff4e",
   "metadata": {},
   "outputs": [
    {
     "data": {
      "text/plain": [
       "[2, 4]"
      ]
     },
     "execution_count": 16,
     "metadata": {},
     "output_type": "execute_result"
    }
   ],
   "source": [
    "even_numbers = list(filter(lambda x: x % 2 == 0, numbers))\n",
    "even_numbers\n"
   ]
  }
 ],
 "metadata": {
  "kernelspec": {
   "display_name": "venv",
   "language": "python",
   "name": "python3"
  },
  "language_info": {
   "codemirror_mode": {
    "name": "ipython",
    "version": 3
   },
   "file_extension": ".py",
   "mimetype": "text/x-python",
   "name": "python",
   "nbconvert_exporter": "python",
   "pygments_lexer": "ipython3",
   "version": "3.12.0"
  }
 },
 "nbformat": 4,
 "nbformat_minor": 5
}
