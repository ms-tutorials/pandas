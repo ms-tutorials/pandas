{
 "cells": [
  {
   "cell_type": "markdown",
   "id": "82cfc5ed",
   "metadata": {},
   "source": [
    "# Working with JSON in Python\n",
    "JSON (JavaScript Object Notation) is a lightweight data-interchange format. This notebook demonstrates how to parse, manipulate, and analyze JSON data using Python."
   ]
  },
  {
   "cell_type": "markdown",
   "id": "9d4227b3",
   "metadata": {},
   "source": [
    "#  What is JSON?"
   ]
  },
  {
   "cell_type": "code",
   "execution_count": 3,
   "id": "9cad98bb",
   "metadata": {},
   "outputs": [],
   "source": [
    "import pandas as pd\n",
    "from pandas import json_normalize\n",
    "import json\n",
    "import datetime\n"
   ]
  },
  {
   "cell_type": "code",
   "execution_count": 5,
   "id": "f6971053",
   "metadata": {},
   "outputs": [
    {
     "data": {
      "text/plain": [
       "20"
      ]
     },
     "execution_count": 5,
     "metadata": {},
     "output_type": "execute_result"
    }
   ],
   "source": [
    "\n",
    "\n",
    "#Parse JSON - OBJECT\n",
    "\n",
    "STUDENT = {\n",
    "  \"name\": \"Jim\",\n",
    "  \"age\": 20,\n",
    "  \"skills\": [\"Python\", \"SQL\", \"Data Analysis\"],\n",
    "  \"location\": {\n",
    "    \"city\": \"Nairobi\",\n",
    "    \"country\": \"Kenya\"\n",
    "  }\n",
    "}\n",
    "\n",
    "STUDENT[\"age\"]\n",
    "\n",
    "\n",
    "\n",
    "#DATA STRUCTURE - Dictionary\n",
    "#Parsed JSON"
   ]
  },
  {
   "cell_type": "markdown",
   "id": "f0756eb9",
   "metadata": {},
   "source": [
    "### Exploring a JSON Schema"
   ]
  },
  {
   "cell_type": "code",
   "execution_count": 6,
   "id": "ee762138",
   "metadata": {},
   "outputs": [
    {
     "name": "stdout",
     "output_type": "stream",
     "text": [
      "<class 'dict'>\n"
     ]
    },
    {
     "data": {
      "text/plain": [
       "'Jim'"
      ]
     },
     "execution_count": 6,
     "metadata": {},
     "output_type": "execute_result"
    }
   ],
   "source": [
    "\n",
    "\n",
    "# Example JSON string\n",
    "json_data = '''\n",
    "{\n",
    "  \"name\": \"Jim\",\n",
    "  \"age\": 20,\n",
    "  \"skills\": [\"Python\", \"SQL\", \"Data Analysis\"],\n",
    "  \"location\": {\n",
    "    \"city\": \"Nairobi\",\n",
    "    \"country\": \"Kenya\"\n",
    "  }\n",
    "}\n",
    "\n",
    "'''\n",
    "\n",
    "# Convert JSON string to a Python dictionary\n",
    "data = json.loads(json_data)\n",
    "\n",
    "print(type(data))\n",
    "\n",
    "data[\"name\"]\n"
   ]
  },
  {
   "cell_type": "markdown",
   "id": "5e3ae725",
   "metadata": {},
   "source": [
    "### Reading JSON from a File"
   ]
  },
  {
   "cell_type": "code",
   "execution_count": 7,
   "id": "dbc1325b",
   "metadata": {},
   "outputs": [
    {
     "data": {
      "text/plain": [
       "{'name': 'Jim',\n",
       " 'age': 20,\n",
       " 'skills': ['Python', 'SQL', 'Data Analysis'],\n",
       " 'location': {'city': 'Nairobi', 'country': 'Kenya'}}"
      ]
     },
     "execution_count": 7,
     "metadata": {},
     "output_type": "execute_result"
    }
   ],
   "source": [
    "\n",
    "# Read from a JSON file\n",
    "with open('../data/user_data.json') as file:\n",
    "    data = json.load(file)\n",
    "\n",
    "data\n"
   ]
  },
  {
   "cell_type": "code",
   "execution_count": 8,
   "id": "e0d0c70b",
   "metadata": {},
   "outputs": [
    {
     "data": {
      "text/plain": [
       "'Jim'"
      ]
     },
     "execution_count": 8,
     "metadata": {},
     "output_type": "execute_result"
    }
   ],
   "source": [
    "data[\"name\"]\n"
   ]
  },
  {
   "cell_type": "markdown",
   "id": "6f2fe4d8",
   "metadata": {},
   "source": [
    "### Flattening JSON (Unpacking Nested Structures)"
   ]
  },
  {
   "cell_type": "markdown",
   "id": "d069075e",
   "metadata": {},
   "source": [
    "### Flattening JSON\n",
    "Flattening JSON involves unpacking nested structures into a flat table format, making it easier to analyze."
   ]
  },
  {
   "cell_type": "code",
   "execution_count": 9,
   "id": "ea1523b5",
   "metadata": {},
   "outputs": [
    {
     "data": {
      "text/html": [
       "<div>\n",
       "<style scoped>\n",
       "    .dataframe tbody tr th:only-of-type {\n",
       "        vertical-align: middle;\n",
       "    }\n",
       "\n",
       "    .dataframe tbody tr th {\n",
       "        vertical-align: top;\n",
       "    }\n",
       "\n",
       "    .dataframe thead th {\n",
       "        text-align: right;\n",
       "    }\n",
       "</style>\n",
       "<table border=\"1\" class=\"dataframe\">\n",
       "  <thead>\n",
       "    <tr style=\"text-align: right;\">\n",
       "      <th></th>\n",
       "      <th>name</th>\n",
       "      <th>age</th>\n",
       "      <th>skills</th>\n",
       "      <th>location.city</th>\n",
       "      <th>location.country</th>\n",
       "    </tr>\n",
       "  </thead>\n",
       "  <tbody>\n",
       "    <tr>\n",
       "      <th>0</th>\n",
       "      <td>Jim</td>\n",
       "      <td>20</td>\n",
       "      <td>[Python, SQL, Data Analysis]</td>\n",
       "      <td>Nairobi</td>\n",
       "      <td>Kenya</td>\n",
       "    </tr>\n",
       "  </tbody>\n",
       "</table>\n",
       "</div>"
      ],
      "text/plain": [
       "  name  age                        skills location.city location.country\n",
       "0  Jim   20  [Python, SQL, Data Analysis]       Nairobi            Kenya"
      ]
     },
     "execution_count": 9,
     "metadata": {},
     "output_type": "execute_result"
    }
   ],
   "source": [
    "\n",
    "\n",
    "# Nested example\n",
    "data = {\n",
    "  \"name\": \"Jim\",\n",
    "  \"age\": 20,\n",
    "  \"skills\": [\"Python\", \"SQL\", \"Data Analysis\"],\n",
    "  \"location\": {\n",
    "    \"city\": \"Nairobi\",\n",
    "    \"country\": \"Kenya\"\n",
    "  }\n",
    "}\n",
    "\n",
    "df = json_normalize(data)\n",
    "df\n"
   ]
  },
  {
   "cell_type": "markdown",
   "id": "62854671",
   "metadata": {},
   "source": [
    "### Using JSON with Pandas"
   ]
  },
  {
   "cell_type": "markdown",
   "id": "76874613",
   "metadata": {},
   "source": [
    "### Using JSON with Pandas\n",
    "Pandas provides tools to work with JSON data, such as converting it into a DataFrame for analysis."
   ]
  },
  {
   "cell_type": "code",
   "execution_count": 10,
   "id": "03324ef4",
   "metadata": {},
   "outputs": [
    {
     "data": {
      "text/html": [
       "<div>\n",
       "<style scoped>\n",
       "    .dataframe tbody tr th:only-of-type {\n",
       "        vertical-align: middle;\n",
       "    }\n",
       "\n",
       "    .dataframe tbody tr th {\n",
       "        vertical-align: top;\n",
       "    }\n",
       "\n",
       "    .dataframe thead th {\n",
       "        text-align: right;\n",
       "    }\n",
       "</style>\n",
       "<table border=\"1\" class=\"dataframe\">\n",
       "  <thead>\n",
       "    <tr style=\"text-align: right;\">\n",
       "      <th></th>\n",
       "      <th>name</th>\n",
       "      <th>age</th>\n",
       "      <th>location.city</th>\n",
       "      <th>location.country</th>\n",
       "    </tr>\n",
       "  </thead>\n",
       "  <tbody>\n",
       "    <tr>\n",
       "      <th>0</th>\n",
       "      <td>Alice</td>\n",
       "      <td>28</td>\n",
       "      <td>Kampala</td>\n",
       "      <td>Uganda</td>\n",
       "    </tr>\n",
       "    <tr>\n",
       "      <th>1</th>\n",
       "      <td>Brian</td>\n",
       "      <td>31</td>\n",
       "      <td>Nairobi</td>\n",
       "      <td>Kenya</td>\n",
       "    </tr>\n",
       "  </tbody>\n",
       "</table>\n",
       "</div>"
      ],
      "text/plain": [
       "    name  age location.city location.country\n",
       "0  Alice   28       Kampala           Uganda\n",
       "1  Brian   31       Nairobi            Kenya"
      ]
     },
     "execution_count": 10,
     "metadata": {},
     "output_type": "execute_result"
    }
   ],
   "source": [
    "json_data = '''\n",
    "[\n",
    "    {\n",
    "        \"name\": \"Alice\",\n",
    "        \"age\": 28,\n",
    "        \"location\": {\"city\": \"Kampala\", \"country\": \"Uganda\"}\n",
    "    },\n",
    "    {\n",
    "        \"name\": \"Brian\",\n",
    "        \"age\": 31,\n",
    "        \"location\": {\"city\": \"Nairobi\", \"country\": \"Kenya\"}\n",
    "    }\n",
    "]\n",
    "'''\n",
    "data = json.loads(json_data)\n",
    "df = json_normalize(data)\n",
    "df\n"
   ]
  },
  {
   "cell_type": "markdown",
   "id": "74517a3d",
   "metadata": {},
   "source": [
    "###  Transforming JSON into DataFrames"
   ]
  },
  {
   "cell_type": "code",
   "execution_count": 11,
   "id": "f4a6340e",
   "metadata": {},
   "outputs": [
    {
     "data": {
      "text/plain": [
       "{'users': [{'id': 1, 'name': 'Alice'}, {'id': 2, 'name': 'Bob'}]}"
      ]
     },
     "execution_count": 11,
     "metadata": {},
     "output_type": "execute_result"
    }
   ],
   "source": [
    "{\n",
    "  \"users\": [\n",
    "    {\"id\": 1, \"name\": \"Alice\"},\n",
    "    {\"id\": 2, \"name\": \"Bob\"}\n",
    "  ]\n",
    "}\n"
   ]
  },
  {
   "cell_type": "code",
   "execution_count": 12,
   "id": "ecd90769",
   "metadata": {},
   "outputs": [
    {
     "data": {
      "text/html": [
       "<div>\n",
       "<style scoped>\n",
       "    .dataframe tbody tr th:only-of-type {\n",
       "        vertical-align: middle;\n",
       "    }\n",
       "\n",
       "    .dataframe tbody tr th {\n",
       "        vertical-align: top;\n",
       "    }\n",
       "\n",
       "    .dataframe thead th {\n",
       "        text-align: right;\n",
       "    }\n",
       "</style>\n",
       "<table border=\"1\" class=\"dataframe\">\n",
       "  <thead>\n",
       "    <tr style=\"text-align: right;\">\n",
       "      <th></th>\n",
       "      <th>id</th>\n",
       "      <th>name</th>\n",
       "    </tr>\n",
       "  </thead>\n",
       "  <tbody>\n",
       "    <tr>\n",
       "      <th>0</th>\n",
       "      <td>1</td>\n",
       "      <td>Alice</td>\n",
       "    </tr>\n",
       "    <tr>\n",
       "      <th>1</th>\n",
       "      <td>2</td>\n",
       "      <td>Bob</td>\n",
       "    </tr>\n",
       "  </tbody>\n",
       "</table>\n",
       "</div>"
      ],
      "text/plain": [
       "   id   name\n",
       "0   1  Alice\n",
       "1   2    Bob"
      ]
     },
     "execution_count": 12,
     "metadata": {},
     "output_type": "execute_result"
    }
   ],
   "source": [
    "json_data ='''\n",
    "{\n",
    "    \"users\": [\n",
    "        {\"id\": 1, \"name\": \"Alice\"},\n",
    "        {\"id\": 2, \"name\": \"Bob\"}\n",
    "    ]\n",
    "}\n",
    "'''\n",
    "data = json.loads(json_data)\n",
    "df = pd.DataFrame(data[\"users\"])\n",
    "df\n"
   ]
  },
  {
   "cell_type": "markdown",
   "id": "fe4e6ea0",
   "metadata": {},
   "source": [
    "### Real-World Example: API Data"
   ]
  },
  {
   "cell_type": "markdown",
   "id": "bd7fefd0",
   "metadata": {},
   "source": [
    "Imagine you call an API that gives you data on weather like this"
   ]
  },
  {
   "cell_type": "code",
   "execution_count": 13,
   "id": "12ec3ffb",
   "metadata": {},
   "outputs": [
    {
     "data": {
      "text/plain": [
       "{'location': 'Nairobi',\n",
       " 'forecast': [{'day': 'Monday', 'temp': 25}, {'day': 'Tuesday', 'temp': 26}]}"
      ]
     },
     "execution_count": 13,
     "metadata": {},
     "output_type": "execute_result"
    }
   ],
   "source": [
    "{\n",
    "  \"location\": \"Nairobi\",\n",
    "  \"forecast\": [\n",
    "    {\"day\": \"Monday\", \"temp\": 25},\n",
    "    {\"day\": \"Tuesday\", \"temp\": 26}\n",
    "  ]\n",
    "}\n"
   ]
  },
  {
   "cell_type": "markdown",
   "id": "7cd4254c",
   "metadata": {},
   "source": [
    "Turn this into a DataFrame."
   ]
  },
  {
   "cell_type": "code",
   "execution_count": 14,
   "id": "fd209b81",
   "metadata": {},
   "outputs": [
    {
     "data": {
      "text/html": [
       "<div>\n",
       "<style scoped>\n",
       "    .dataframe tbody tr th:only-of-type {\n",
       "        vertical-align: middle;\n",
       "    }\n",
       "\n",
       "    .dataframe tbody tr th {\n",
       "        vertical-align: top;\n",
       "    }\n",
       "\n",
       "    .dataframe thead th {\n",
       "        text-align: right;\n",
       "    }\n",
       "</style>\n",
       "<table border=\"1\" class=\"dataframe\">\n",
       "  <thead>\n",
       "    <tr style=\"text-align: right;\">\n",
       "      <th></th>\n",
       "      <th>day</th>\n",
       "      <th>temp</th>\n",
       "    </tr>\n",
       "  </thead>\n",
       "  <tbody>\n",
       "    <tr>\n",
       "      <th>0</th>\n",
       "      <td>Monday</td>\n",
       "      <td>25</td>\n",
       "    </tr>\n",
       "    <tr>\n",
       "      <th>1</th>\n",
       "      <td>Tuesday</td>\n",
       "      <td>30</td>\n",
       "    </tr>\n",
       "    <tr>\n",
       "      <th>2</th>\n",
       "      <td>Wednesday</td>\n",
       "      <td>22</td>\n",
       "    </tr>\n",
       "    <tr>\n",
       "      <th>3</th>\n",
       "      <td>Thursday</td>\n",
       "      <td>32</td>\n",
       "    </tr>\n",
       "    <tr>\n",
       "      <th>4</th>\n",
       "      <td>Friday</td>\n",
       "      <td>50</td>\n",
       "    </tr>\n",
       "  </tbody>\n",
       "</table>\n",
       "</div>"
      ],
      "text/plain": [
       "         day  temp\n",
       "0     Monday    25\n",
       "1    Tuesday    30\n",
       "2  Wednesday    22\n",
       "3   Thursday    32\n",
       "4     Friday    50"
      ]
     },
     "execution_count": 14,
     "metadata": {},
     "output_type": "execute_result"
    }
   ],
   "source": [
    "weather_json ={\n",
    "  \"location\": \"Nairobi\",\n",
    "  \"forecast\": [\n",
    "    { \"day\": \"Monday\", \"temp\": 25 },\n",
    "    { \"day\": \"Tuesday\", \"temp\": 30 },\n",
    "    { \"day\": \"Wednesday\", \"temp\": 22 },\n",
    "    { \"day\": \"Thursday\", \"temp\": 32 },\n",
    "    { \"day\": \"Friday\", \"temp\": 50 }\n",
    "  ]\n",
    "}\n",
    "\n",
    "\n",
    "df = pd.DataFrame(weather_json[\"forecast\"])\n",
    "df\n"
   ]
  },
  {
   "cell_type": "markdown",
   "id": "5812dbb8",
   "metadata": {},
   "source": [
    "## Or"
   ]
  },
  {
   "cell_type": "code",
   "execution_count": 15,
   "id": "3db23259",
   "metadata": {},
   "outputs": [
    {
     "data": {
      "text/html": [
       "<div>\n",
       "<style scoped>\n",
       "    .dataframe tbody tr th:only-of-type {\n",
       "        vertical-align: middle;\n",
       "    }\n",
       "\n",
       "    .dataframe tbody tr th {\n",
       "        vertical-align: top;\n",
       "    }\n",
       "\n",
       "    .dataframe thead th {\n",
       "        text-align: right;\n",
       "    }\n",
       "</style>\n",
       "<table border=\"1\" class=\"dataframe\">\n",
       "  <thead>\n",
       "    <tr style=\"text-align: right;\">\n",
       "      <th></th>\n",
       "      <th>day</th>\n",
       "      <th>temp</th>\n",
       "    </tr>\n",
       "  </thead>\n",
       "  <tbody>\n",
       "    <tr>\n",
       "      <th>0</th>\n",
       "      <td>Monday</td>\n",
       "      <td>25</td>\n",
       "    </tr>\n",
       "    <tr>\n",
       "      <th>1</th>\n",
       "      <td>Tuesday</td>\n",
       "      <td>30</td>\n",
       "    </tr>\n",
       "    <tr>\n",
       "      <th>2</th>\n",
       "      <td>Wednesday</td>\n",
       "      <td>22</td>\n",
       "    </tr>\n",
       "    <tr>\n",
       "      <th>3</th>\n",
       "      <td>Thursday</td>\n",
       "      <td>32</td>\n",
       "    </tr>\n",
       "    <tr>\n",
       "      <th>4</th>\n",
       "      <td>Friday</td>\n",
       "      <td>50</td>\n",
       "    </tr>\n",
       "  </tbody>\n",
       "</table>\n",
       "</div>"
      ],
      "text/plain": [
       "         day  temp\n",
       "0     Monday    25\n",
       "1    Tuesday    30\n",
       "2  Wednesday    22\n",
       "3   Thursday    32\n",
       "4     Friday    50"
      ]
     },
     "execution_count": 15,
     "metadata": {},
     "output_type": "execute_result"
    }
   ],
   "source": [
    "\n",
    "# Read from a JSON file\n",
    "with open('../data/weather_data.json') as file:\n",
    "    data = json.load(file)\n",
    "\n",
    "df = pd.DataFrame(data[\"forecast\"])\n",
    "\n",
    "df"
   ]
  },
  {
   "cell_type": "markdown",
   "id": "fc221f8b",
   "metadata": {},
   "source": [
    "### Data Cleaning with JSON + Pandas"
   ]
  },
  {
   "cell_type": "code",
   "execution_count": 17,
   "id": "ce1cc358",
   "metadata": {},
   "outputs": [
    {
     "data": {
      "text/html": [
       "<div>\n",
       "<style scoped>\n",
       "    .dataframe tbody tr th:only-of-type {\n",
       "        vertical-align: middle;\n",
       "    }\n",
       "\n",
       "    .dataframe tbody tr th {\n",
       "        vertical-align: top;\n",
       "    }\n",
       "\n",
       "    .dataframe thead th {\n",
       "        text-align: right;\n",
       "    }\n",
       "</style>\n",
       "<table border=\"1\" class=\"dataframe\">\n",
       "  <thead>\n",
       "    <tr style=\"text-align: right;\">\n",
       "      <th></th>\n",
       "      <th>day</th>\n",
       "      <th>temp</th>\n",
       "      <th>location</th>\n",
       "    </tr>\n",
       "  </thead>\n",
       "  <tbody>\n",
       "    <tr>\n",
       "      <th>0</th>\n",
       "      <td>Monday</td>\n",
       "      <td>25</td>\n",
       "      <td>Nairobi</td>\n",
       "    </tr>\n",
       "    <tr>\n",
       "      <th>1</th>\n",
       "      <td>Tuesday</td>\n",
       "      <td>30</td>\n",
       "      <td>Nairobi</td>\n",
       "    </tr>\n",
       "    <tr>\n",
       "      <th>2</th>\n",
       "      <td>Wednesday</td>\n",
       "      <td>22</td>\n",
       "      <td>Nairobi</td>\n",
       "    </tr>\n",
       "    <tr>\n",
       "      <th>3</th>\n",
       "      <td>Thursday</td>\n",
       "      <td>32</td>\n",
       "      <td>Nairobi</td>\n",
       "    </tr>\n",
       "    <tr>\n",
       "      <th>4</th>\n",
       "      <td>Friday</td>\n",
       "      <td>50</td>\n",
       "      <td>Nairobi</td>\n",
       "    </tr>\n",
       "  </tbody>\n",
       "</table>\n",
       "</div>"
      ],
      "text/plain": [
       "         day  temp location\n",
       "0     Monday    25  Nairobi\n",
       "1    Tuesday    30  Nairobi\n",
       "2  Wednesday    22  Nairobi\n",
       "3   Thursday    32  Nairobi\n",
       "4     Friday    50  Nairobi"
      ]
     },
     "execution_count": 17,
     "metadata": {},
     "output_type": "execute_result"
    }
   ],
   "source": [
    "\n",
    "# Raw JSON\n",
    "weather_json = {\n",
    "    \"location\": \"Nairobi\",\n",
    "    \"forecast\": [\n",
    "        { \"day\": \"Monday\", \"temp\": 25 },\n",
    "        { \"day\": \"Tuesday\", \"temp\": 30 },\n",
    "        { \"day\": \"Wednesday\", \"temp\": 22 },\n",
    "        { \"day\": \"Thursday\", \"temp\": 32 },\n",
    "        { \"day\": \"Friday\", \"temp\": 50 }  # Possibly suspicious\n",
    "    ]\n",
    "}\n",
    "\n",
    "# Normalize\n",
    "df = pd.DataFrame(weather_json[\"forecast\"])\n",
    "df[\"location\"] = weather_json[\"location\"]  # Add location\n",
    "df\n"
   ]
  },
  {
   "cell_type": "markdown",
   "id": "a167e619",
   "metadata": {},
   "source": [
    "## Handling Missing Values"
   ]
  },
  {
   "cell_type": "code",
   "execution_count": 18,
   "id": "0086020b",
   "metadata": {},
   "outputs": [
    {
     "data": {
      "text/html": [
       "<div>\n",
       "<style scoped>\n",
       "    .dataframe tbody tr th:only-of-type {\n",
       "        vertical-align: middle;\n",
       "    }\n",
       "\n",
       "    .dataframe tbody tr th {\n",
       "        vertical-align: top;\n",
       "    }\n",
       "\n",
       "    .dataframe thead th {\n",
       "        text-align: right;\n",
       "    }\n",
       "</style>\n",
       "<table border=\"1\" class=\"dataframe\">\n",
       "  <thead>\n",
       "    <tr style=\"text-align: right;\">\n",
       "      <th></th>\n",
       "      <th>day</th>\n",
       "      <th>temp</th>\n",
       "      <th>location</th>\n",
       "    </tr>\n",
       "  </thead>\n",
       "  <tbody>\n",
       "    <tr>\n",
       "      <th>0</th>\n",
       "      <td>Monday</td>\n",
       "      <td>25.0</td>\n",
       "      <td>Nairobi</td>\n",
       "    </tr>\n",
       "    <tr>\n",
       "      <th>1</th>\n",
       "      <td>Tuesday</td>\n",
       "      <td>30.0</td>\n",
       "      <td>Nairobi</td>\n",
       "    </tr>\n",
       "    <tr>\n",
       "      <th>2</th>\n",
       "      <td>Wednesday</td>\n",
       "      <td>NaN</td>\n",
       "      <td>Nairobi</td>\n",
       "    </tr>\n",
       "    <tr>\n",
       "      <th>3</th>\n",
       "      <td>Thursday</td>\n",
       "      <td>32.0</td>\n",
       "      <td>Nairobi</td>\n",
       "    </tr>\n",
       "    <tr>\n",
       "      <th>4</th>\n",
       "      <td>Friday</td>\n",
       "      <td>50.0</td>\n",
       "      <td>Nairobi</td>\n",
       "    </tr>\n",
       "  </tbody>\n",
       "</table>\n",
       "</div>"
      ],
      "text/plain": [
       "         day  temp location\n",
       "0     Monday  25.0  Nairobi\n",
       "1    Tuesday  30.0  Nairobi\n",
       "2  Wednesday   NaN  Nairobi\n",
       "3   Thursday  32.0  Nairobi\n",
       "4     Friday  50.0  Nairobi"
      ]
     },
     "execution_count": 18,
     "metadata": {},
     "output_type": "execute_result"
    }
   ],
   "source": [
    "# Inject missing temperature\n",
    "df.loc[2, \"temp\"] = None\n",
    "df"
   ]
  },
  {
   "cell_type": "markdown",
   "id": "1cb6dfe4",
   "metadata": {},
   "source": [
    "### Detect missing values:"
   ]
  },
  {
   "cell_type": "code",
   "execution_count": 19,
   "id": "bdfe0af3",
   "metadata": {},
   "outputs": [
    {
     "data": {
      "text/plain": [
       "day         0\n",
       "temp        1\n",
       "location    0\n",
       "dtype: int64"
      ]
     },
     "execution_count": 19,
     "metadata": {},
     "output_type": "execute_result"
    }
   ],
   "source": [
    "\n",
    "df.isnull().sum()\n"
   ]
  },
  {
   "cell_type": "markdown",
   "id": "bf2b3e95",
   "metadata": {},
   "source": [
    "#### Fill with average (recommended):"
   ]
  },
  {
   "cell_type": "code",
   "execution_count": 20,
   "id": "4789db02",
   "metadata": {},
   "outputs": [
    {
     "data": {
      "text/html": [
       "<div>\n",
       "<style scoped>\n",
       "    .dataframe tbody tr th:only-of-type {\n",
       "        vertical-align: middle;\n",
       "    }\n",
       "\n",
       "    .dataframe tbody tr th {\n",
       "        vertical-align: top;\n",
       "    }\n",
       "\n",
       "    .dataframe thead th {\n",
       "        text-align: right;\n",
       "    }\n",
       "</style>\n",
       "<table border=\"1\" class=\"dataframe\">\n",
       "  <thead>\n",
       "    <tr style=\"text-align: right;\">\n",
       "      <th></th>\n",
       "      <th>day</th>\n",
       "      <th>temp</th>\n",
       "      <th>location</th>\n",
       "    </tr>\n",
       "  </thead>\n",
       "  <tbody>\n",
       "    <tr>\n",
       "      <th>0</th>\n",
       "      <td>Monday</td>\n",
       "      <td>25.00</td>\n",
       "      <td>Nairobi</td>\n",
       "    </tr>\n",
       "    <tr>\n",
       "      <th>1</th>\n",
       "      <td>Tuesday</td>\n",
       "      <td>30.00</td>\n",
       "      <td>Nairobi</td>\n",
       "    </tr>\n",
       "    <tr>\n",
       "      <th>2</th>\n",
       "      <td>Wednesday</td>\n",
       "      <td>34.25</td>\n",
       "      <td>Nairobi</td>\n",
       "    </tr>\n",
       "    <tr>\n",
       "      <th>3</th>\n",
       "      <td>Thursday</td>\n",
       "      <td>32.00</td>\n",
       "      <td>Nairobi</td>\n",
       "    </tr>\n",
       "    <tr>\n",
       "      <th>4</th>\n",
       "      <td>Friday</td>\n",
       "      <td>50.00</td>\n",
       "      <td>Nairobi</td>\n",
       "    </tr>\n",
       "  </tbody>\n",
       "</table>\n",
       "</div>"
      ],
      "text/plain": [
       "         day   temp location\n",
       "0     Monday  25.00  Nairobi\n",
       "1    Tuesday  30.00  Nairobi\n",
       "2  Wednesday  34.25  Nairobi\n",
       "3   Thursday  32.00  Nairobi\n",
       "4     Friday  50.00  Nairobi"
      ]
     },
     "execution_count": 20,
     "metadata": {},
     "output_type": "execute_result"
    }
   ],
   "source": [
    "\n",
    "df[\"temp\"] = df[\"temp\"].fillna(df[\"temp\"].mean())\n",
    "\n",
    "df\n"
   ]
  },
  {
   "cell_type": "markdown",
   "id": "6f6d2d3e",
   "metadata": {},
   "source": [
    "#### Drop missing rows (if critical / not recommended):"
   ]
  },
  {
   "cell_type": "code",
   "execution_count": 31,
   "id": "6d9ba3c2",
   "metadata": {},
   "outputs": [
    {
     "data": {
      "text/html": [
       "<div>\n",
       "<style scoped>\n",
       "    .dataframe tbody tr th:only-of-type {\n",
       "        vertical-align: middle;\n",
       "    }\n",
       "\n",
       "    .dataframe tbody tr th {\n",
       "        vertical-align: top;\n",
       "    }\n",
       "\n",
       "    .dataframe thead th {\n",
       "        text-align: right;\n",
       "    }\n",
       "</style>\n",
       "<table border=\"1\" class=\"dataframe\">\n",
       "  <thead>\n",
       "    <tr style=\"text-align: right;\">\n",
       "      <th></th>\n",
       "      <th>day</th>\n",
       "      <th>temp</th>\n",
       "      <th>location</th>\n",
       "    </tr>\n",
       "  </thead>\n",
       "  <tbody>\n",
       "    <tr>\n",
       "      <th>0</th>\n",
       "      <td>Monday</td>\n",
       "      <td>25.0</td>\n",
       "      <td>Nairobi</td>\n",
       "    </tr>\n",
       "    <tr>\n",
       "      <th>1</th>\n",
       "      <td>Tuesday</td>\n",
       "      <td>30.0</td>\n",
       "      <td>Nairobi</td>\n",
       "    </tr>\n",
       "    <tr>\n",
       "      <th>3</th>\n",
       "      <td>Thursday</td>\n",
       "      <td>32.0</td>\n",
       "      <td>Nairobi</td>\n",
       "    </tr>\n",
       "  </tbody>\n",
       "</table>\n",
       "</div>"
      ],
      "text/plain": [
       "        day  temp location\n",
       "0    Monday  25.0  Nairobi\n",
       "1   Tuesday  30.0  Nairobi\n",
       "3  Thursday  32.0  Nairobi"
      ]
     },
     "execution_count": 31,
     "metadata": {},
     "output_type": "execute_result"
    }
   ],
   "source": [
    "df.loc[2, \"temp\"] = None\n",
    "df_cleaned = df.dropna()\n",
    "\n",
    "df_cleaned"
   ]
  },
  {
   "cell_type": "markdown",
   "id": "f91cba5d",
   "metadata": {},
   "source": [
    "## Detecting and Handling Outliers"
   ]
  },
  {
   "cell_type": "markdown",
   "id": "925a7227",
   "metadata": {},
   "source": [
    "Check basic stats:"
   ]
  },
  {
   "cell_type": "code",
   "execution_count": 47,
   "id": "d945fbba",
   "metadata": {},
   "outputs": [
    {
     "data": {
      "text/html": [
       "<div>\n",
       "<style scoped>\n",
       "    .dataframe tbody tr th:only-of-type {\n",
       "        vertical-align: middle;\n",
       "    }\n",
       "\n",
       "    .dataframe tbody tr th {\n",
       "        vertical-align: top;\n",
       "    }\n",
       "\n",
       "    .dataframe thead th {\n",
       "        text-align: right;\n",
       "    }\n",
       "</style>\n",
       "<table border=\"1\" class=\"dataframe\">\n",
       "  <thead>\n",
       "    <tr style=\"text-align: right;\">\n",
       "      <th></th>\n",
       "      <th>temp</th>\n",
       "    </tr>\n",
       "  </thead>\n",
       "  <tbody>\n",
       "    <tr>\n",
       "      <th>count</th>\n",
       "      <td>4.000000</td>\n",
       "    </tr>\n",
       "    <tr>\n",
       "      <th>mean</th>\n",
       "      <td>27.250000</td>\n",
       "    </tr>\n",
       "    <tr>\n",
       "      <th>std</th>\n",
       "      <td>4.573474</td>\n",
       "    </tr>\n",
       "    <tr>\n",
       "      <th>min</th>\n",
       "      <td>22.000000</td>\n",
       "    </tr>\n",
       "    <tr>\n",
       "      <th>25%</th>\n",
       "      <td>24.250000</td>\n",
       "    </tr>\n",
       "    <tr>\n",
       "      <th>50%</th>\n",
       "      <td>27.500000</td>\n",
       "    </tr>\n",
       "    <tr>\n",
       "      <th>75%</th>\n",
       "      <td>30.500000</td>\n",
       "    </tr>\n",
       "    <tr>\n",
       "      <th>max</th>\n",
       "      <td>32.000000</td>\n",
       "    </tr>\n",
       "  </tbody>\n",
       "</table>\n",
       "</div>"
      ],
      "text/plain": [
       "            temp\n",
       "count   4.000000\n",
       "mean   27.250000\n",
       "std     4.573474\n",
       "min    22.000000\n",
       "25%    24.250000\n",
       "50%    27.500000\n",
       "75%    30.500000\n",
       "max    32.000000"
      ]
     },
     "execution_count": 47,
     "metadata": {},
     "output_type": "execute_result"
    }
   ],
   "source": [
    "df.describe()"
   ]
  },
  {
   "cell_type": "markdown",
   "id": "409b4dd8",
   "metadata": {},
   "source": [
    "Flag or filter outliers:"
   ]
  },
  {
   "cell_type": "code",
   "execution_count": 53,
   "id": "6ab54c72",
   "metadata": {},
   "outputs": [
    {
     "data": {
      "text/plain": [
       "('Outliers:\\n',\n",
       "       day  temp\n",
       " 4  Friday    50)"
      ]
     },
     "execution_count": 53,
     "metadata": {},
     "output_type": "execute_result"
    }
   ],
   "source": [
    "# Define threshold\n",
    "df = pd.DataFrame(weather_json[\"forecast\"])\n",
    "threshold = 35\n",
    "outliers = df[df[\"temp\"] > threshold]\n",
    "\"Outliers:\\n\", outliers\n",
    "\n",
    "# Option 1: Replace with average\n",
    "# df.loc[df[\"temp\"] > threshold, \"temp\"] = df[\"temp\"].mean()\n",
    "# df\n",
    "\n",
    "# Option 2: Drop outliers\n",
    "# df = df[df[\"temp\"] <= threshold]\n",
    "# df\n"
   ]
  },
  {
   "cell_type": "markdown",
   "id": "7dec4f5c",
   "metadata": {},
   "source": [
    " ## Removing Duplicates"
   ]
  },
  {
   "cell_type": "code",
   "execution_count": 58,
   "id": "35f0cc2e",
   "metadata": {},
   "outputs": [
    {
     "data": {
      "text/html": [
       "<div>\n",
       "<style scoped>\n",
       "    .dataframe tbody tr th:only-of-type {\n",
       "        vertical-align: middle;\n",
       "    }\n",
       "\n",
       "    .dataframe tbody tr th {\n",
       "        vertical-align: top;\n",
       "    }\n",
       "\n",
       "    .dataframe thead th {\n",
       "        text-align: right;\n",
       "    }\n",
       "</style>\n",
       "<table border=\"1\" class=\"dataframe\">\n",
       "  <thead>\n",
       "    <tr style=\"text-align: right;\">\n",
       "      <th></th>\n",
       "      <th>day</th>\n",
       "      <th>temp</th>\n",
       "    </tr>\n",
       "  </thead>\n",
       "  <tbody>\n",
       "    <tr>\n",
       "      <th>0</th>\n",
       "      <td>Monday</td>\n",
       "      <td>25</td>\n",
       "    </tr>\n",
       "    <tr>\n",
       "      <th>1</th>\n",
       "      <td>Tuesday</td>\n",
       "      <td>30</td>\n",
       "    </tr>\n",
       "    <tr>\n",
       "      <th>2</th>\n",
       "      <td>Wednesday</td>\n",
       "      <td>22</td>\n",
       "    </tr>\n",
       "    <tr>\n",
       "      <th>3</th>\n",
       "      <td>Thursday</td>\n",
       "      <td>32</td>\n",
       "    </tr>\n",
       "    <tr>\n",
       "      <th>4</th>\n",
       "      <td>Friday</td>\n",
       "      <td>50</td>\n",
       "    </tr>\n",
       "    <tr>\n",
       "      <th>5</th>\n",
       "      <td>Tuesday</td>\n",
       "      <td>30</td>\n",
       "    </tr>\n",
       "  </tbody>\n",
       "</table>\n",
       "</div>"
      ],
      "text/plain": [
       "         day  temp\n",
       "0     Monday    25\n",
       "1    Tuesday    30\n",
       "2  Wednesday    22\n",
       "3   Thursday    32\n",
       "4     Friday    50\n",
       "5    Tuesday    30"
      ]
     },
     "execution_count": 58,
     "metadata": {},
     "output_type": "execute_result"
    }
   ],
   "source": [
    "df = pd.DataFrame(weather_json[\"forecast\"])\n",
    "df = pd.concat([df, df.iloc[[1]]], ignore_index=True)\n",
    "df\n",
    "# Drop duplicates\n",
    "# df = df.drop_duplicates()\n",
    "# df\n"
   ]
  },
  {
   "cell_type": "markdown",
   "id": "faa6a136",
   "metadata": {},
   "source": [
    "## Fixing Data Types"
   ]
  },
  {
   "cell_type": "code",
   "execution_count": 63,
   "id": "d2a006b7",
   "metadata": {},
   "outputs": [
    {
     "name": "stdout",
     "output_type": "stream",
     "text": [
      "<class 'pandas.core.frame.DataFrame'>\n",
      "RangeIndex: 6 entries, 0 to 5\n",
      "Data columns (total 2 columns):\n",
      " #   Column  Non-Null Count  Dtype \n",
      "---  ------  --------------  ----- \n",
      " 0   day     6 non-null      object\n",
      " 1   temp    6 non-null      object\n",
      "dtypes: object(2)\n",
      "memory usage: 228.0+ bytes\n",
      "<class 'pandas.core.frame.DataFrame'>\n",
      "RangeIndex: 6 entries, 0 to 5\n",
      "Data columns (total 2 columns):\n",
      " #   Column  Non-Null Count  Dtype \n",
      "---  ------  --------------  ----- \n",
      " 0   day     6 non-null      object\n",
      " 1   temp    6 non-null      int64 \n",
      "dtypes: int64(1), object(1)\n",
      "memory usage: 228.0+ bytes\n"
     ]
    }
   ],
   "source": [
    "\n",
    "df[\"temp\"] = df[\"temp\"].astype(str)  # Simulate strings\n",
    "df.info()\n",
    "\n",
    "# df[\"temp\"] = pd.to_numeric(df[\"temp\"], errors=\"coerce\")  # Convert safely\n",
    "# df.info()\n",
    "\n",
    "\n"
   ]
  },
  {
   "cell_type": "markdown",
   "id": "87626c47",
   "metadata": {},
   "source": []
  },
  {
   "cell_type": "markdown",
   "id": "b97cdeb7",
   "metadata": {},
   "source": [
    "## Standardizing Day Names or Text Columns"
   ]
  },
  {
   "cell_type": "code",
   "execution_count": 65,
   "id": "8f9f4915",
   "metadata": {},
   "outputs": [
    {
     "data": {
      "text/html": [
       "<div>\n",
       "<style scoped>\n",
       "    .dataframe tbody tr th:only-of-type {\n",
       "        vertical-align: middle;\n",
       "    }\n",
       "\n",
       "    .dataframe tbody tr th {\n",
       "        vertical-align: top;\n",
       "    }\n",
       "\n",
       "    .dataframe thead th {\n",
       "        text-align: right;\n",
       "    }\n",
       "</style>\n",
       "<table border=\"1\" class=\"dataframe\">\n",
       "  <thead>\n",
       "    <tr style=\"text-align: right;\">\n",
       "      <th></th>\n",
       "      <th>day</th>\n",
       "      <th>temp</th>\n",
       "    </tr>\n",
       "  </thead>\n",
       "  <tbody>\n",
       "    <tr>\n",
       "      <th>0</th>\n",
       "      <td>Monday</td>\n",
       "      <td>25</td>\n",
       "    </tr>\n",
       "    <tr>\n",
       "      <th>1</th>\n",
       "      <td>Tuesday</td>\n",
       "      <td>30</td>\n",
       "    </tr>\n",
       "    <tr>\n",
       "      <th>2</th>\n",
       "      <td>Wednesday</td>\n",
       "      <td>22</td>\n",
       "    </tr>\n",
       "    <tr>\n",
       "      <th>3</th>\n",
       "      <td>Thursday</td>\n",
       "      <td>32</td>\n",
       "    </tr>\n",
       "    <tr>\n",
       "      <th>4</th>\n",
       "      <td>Friday</td>\n",
       "      <td>50</td>\n",
       "    </tr>\n",
       "    <tr>\n",
       "      <th>5</th>\n",
       "      <td>Tuesday</td>\n",
       "      <td>30</td>\n",
       "    </tr>\n",
       "  </tbody>\n",
       "</table>\n",
       "</div>"
      ],
      "text/plain": [
       "         day  temp\n",
       "0     Monday    25\n",
       "1    Tuesday    30\n",
       "2  Wednesday    22\n",
       "3   Thursday    32\n",
       "4     Friday    50\n",
       "5    Tuesday    30"
      ]
     },
     "execution_count": 65,
     "metadata": {},
     "output_type": "execute_result"
    }
   ],
   "source": [
    "df.loc[0, \"day\"] = \"monday\"  # Simulate inconsistency\n",
    "df\n",
    "\n",
    "\n",
    "# df[\"day\"] = df[\"day\"].str.capitalize()\n",
    "# df\n"
   ]
  },
  {
   "cell_type": "markdown",
   "id": "3cb708de",
   "metadata": {},
   "source": [
    "## Creating a Date Column"
   ]
  },
  {
   "cell_type": "code",
   "execution_count": 66,
   "id": "aad4a263",
   "metadata": {},
   "outputs": [
    {
     "data": {
      "text/html": [
       "<div>\n",
       "<style scoped>\n",
       "    .dataframe tbody tr th:only-of-type {\n",
       "        vertical-align: middle;\n",
       "    }\n",
       "\n",
       "    .dataframe tbody tr th {\n",
       "        vertical-align: top;\n",
       "    }\n",
       "\n",
       "    .dataframe thead th {\n",
       "        text-align: right;\n",
       "    }\n",
       "</style>\n",
       "<table border=\"1\" class=\"dataframe\">\n",
       "  <thead>\n",
       "    <tr style=\"text-align: right;\">\n",
       "      <th></th>\n",
       "      <th>day</th>\n",
       "      <th>temp</th>\n",
       "      <th>date</th>\n",
       "    </tr>\n",
       "  </thead>\n",
       "  <tbody>\n",
       "    <tr>\n",
       "      <th>0</th>\n",
       "      <td>Monday</td>\n",
       "      <td>25</td>\n",
       "      <td>2025-04-15</td>\n",
       "    </tr>\n",
       "    <tr>\n",
       "      <th>1</th>\n",
       "      <td>Tuesday</td>\n",
       "      <td>30</td>\n",
       "      <td>2025-04-16</td>\n",
       "    </tr>\n",
       "    <tr>\n",
       "      <th>2</th>\n",
       "      <td>Wednesday</td>\n",
       "      <td>22</td>\n",
       "      <td>2025-04-17</td>\n",
       "    </tr>\n",
       "    <tr>\n",
       "      <th>3</th>\n",
       "      <td>Thursday</td>\n",
       "      <td>32</td>\n",
       "      <td>2025-04-18</td>\n",
       "    </tr>\n",
       "    <tr>\n",
       "      <th>4</th>\n",
       "      <td>Friday</td>\n",
       "      <td>50</td>\n",
       "      <td>2025-04-19</td>\n",
       "    </tr>\n",
       "    <tr>\n",
       "      <th>5</th>\n",
       "      <td>Tuesday</td>\n",
       "      <td>30</td>\n",
       "      <td>2025-04-20</td>\n",
       "    </tr>\n",
       "  </tbody>\n",
       "</table>\n",
       "</div>"
      ],
      "text/plain": [
       "         day  temp        date\n",
       "0     Monday    25  2025-04-15\n",
       "1    Tuesday    30  2025-04-16\n",
       "2  Wednesday    22  2025-04-17\n",
       "3   Thursday    32  2025-04-18\n",
       "4     Friday    50  2025-04-19\n",
       "5    Tuesday    30  2025-04-20"
      ]
     },
     "execution_count": 66,
     "metadata": {},
     "output_type": "execute_result"
    }
   ],
   "source": [
    "\n",
    "# Start from a real date\n",
    "start_date = datetime.date(2025, 4, 15)\n",
    "\n",
    "# Map to dates\n",
    "df[\"date\"] = [start_date + datetime.timedelta(days=i) for i in range(len(df))]\n",
    "\n",
    "df\n"
   ]
  },
  {
   "cell_type": "markdown",
   "id": "46f49b1d",
   "metadata": {},
   "source": [
    "##  Creating Derived Columns (e.g., Temperature Category)"
   ]
  },
  {
   "cell_type": "code",
   "execution_count": 67,
   "id": "9d9db1f0",
   "metadata": {},
   "outputs": [
    {
     "data": {
      "text/html": [
       "<div>\n",
       "<style scoped>\n",
       "    .dataframe tbody tr th:only-of-type {\n",
       "        vertical-align: middle;\n",
       "    }\n",
       "\n",
       "    .dataframe tbody tr th {\n",
       "        vertical-align: top;\n",
       "    }\n",
       "\n",
       "    .dataframe thead th {\n",
       "        text-align: right;\n",
       "    }\n",
       "</style>\n",
       "<table border=\"1\" class=\"dataframe\">\n",
       "  <thead>\n",
       "    <tr style=\"text-align: right;\">\n",
       "      <th></th>\n",
       "      <th>day</th>\n",
       "      <th>temp</th>\n",
       "      <th>date</th>\n",
       "      <th>temp_category</th>\n",
       "    </tr>\n",
       "  </thead>\n",
       "  <tbody>\n",
       "    <tr>\n",
       "      <th>0</th>\n",
       "      <td>Monday</td>\n",
       "      <td>25</td>\n",
       "      <td>2025-04-15</td>\n",
       "      <td>Cool</td>\n",
       "    </tr>\n",
       "    <tr>\n",
       "      <th>1</th>\n",
       "      <td>Tuesday</td>\n",
       "      <td>30</td>\n",
       "      <td>2025-04-16</td>\n",
       "      <td>Warm</td>\n",
       "    </tr>\n",
       "    <tr>\n",
       "      <th>2</th>\n",
       "      <td>Wednesday</td>\n",
       "      <td>22</td>\n",
       "      <td>2025-04-17</td>\n",
       "      <td>Cool</td>\n",
       "    </tr>\n",
       "    <tr>\n",
       "      <th>3</th>\n",
       "      <td>Thursday</td>\n",
       "      <td>32</td>\n",
       "      <td>2025-04-18</td>\n",
       "      <td>Hot</td>\n",
       "    </tr>\n",
       "    <tr>\n",
       "      <th>4</th>\n",
       "      <td>Friday</td>\n",
       "      <td>50</td>\n",
       "      <td>2025-04-19</td>\n",
       "      <td>Hot</td>\n",
       "    </tr>\n",
       "    <tr>\n",
       "      <th>5</th>\n",
       "      <td>Tuesday</td>\n",
       "      <td>30</td>\n",
       "      <td>2025-04-20</td>\n",
       "      <td>Warm</td>\n",
       "    </tr>\n",
       "  </tbody>\n",
       "</table>\n",
       "</div>"
      ],
      "text/plain": [
       "         day  temp        date temp_category\n",
       "0     Monday    25  2025-04-15          Cool\n",
       "1    Tuesday    30  2025-04-16          Warm\n",
       "2  Wednesday    22  2025-04-17          Cool\n",
       "3   Thursday    32  2025-04-18           Hot\n",
       "4     Friday    50  2025-04-19           Hot\n",
       "5    Tuesday    30  2025-04-20          Warm"
      ]
     },
     "execution_count": 67,
     "metadata": {},
     "output_type": "execute_result"
    }
   ],
   "source": [
    "def categorize_temp(temp):\n",
    "    if temp < 26:\n",
    "        return \"Cool\"\n",
    "    elif temp <= 30:\n",
    "        return \"Warm\"\n",
    "    else:\n",
    "        return \"Hot\"\n",
    "\n",
    "df[\"temp_category\"] = df[\"temp\"].apply(categorize_temp)\n",
    "\n",
    "df"
   ]
  },
  {
   "cell_type": "markdown",
   "id": "29b8aba0",
   "metadata": {},
   "source": [
    "## Export Data"
   ]
  },
  {
   "cell_type": "code",
   "execution_count": 70,
   "id": "8c704498",
   "metadata": {},
   "outputs": [],
   "source": [
    "df.to_json(\"../data/cleaned_weather_data.json\")"
   ]
  },
  {
   "cell_type": "markdown",
   "id": "6041367d",
   "metadata": {},
   "source": [
    "## Importing Cleaned Data"
   ]
  },
  {
   "cell_type": "code",
   "execution_count": 71,
   "id": "ea743523",
   "metadata": {},
   "outputs": [
    {
     "data": {
      "text/html": [
       "<div>\n",
       "<style scoped>\n",
       "    .dataframe tbody tr th:only-of-type {\n",
       "        vertical-align: middle;\n",
       "    }\n",
       "\n",
       "    .dataframe tbody tr th {\n",
       "        vertical-align: top;\n",
       "    }\n",
       "\n",
       "    .dataframe thead th {\n",
       "        text-align: right;\n",
       "    }\n",
       "</style>\n",
       "<table border=\"1\" class=\"dataframe\">\n",
       "  <thead>\n",
       "    <tr style=\"text-align: right;\">\n",
       "      <th></th>\n",
       "      <th>day</th>\n",
       "      <th>temp</th>\n",
       "      <th>date</th>\n",
       "      <th>temp_category</th>\n",
       "    </tr>\n",
       "  </thead>\n",
       "  <tbody>\n",
       "    <tr>\n",
       "      <th>0</th>\n",
       "      <td>Monday</td>\n",
       "      <td>25</td>\n",
       "      <td>2025-04-15</td>\n",
       "      <td>Cool</td>\n",
       "    </tr>\n",
       "    <tr>\n",
       "      <th>1</th>\n",
       "      <td>Tuesday</td>\n",
       "      <td>30</td>\n",
       "      <td>2025-04-16</td>\n",
       "      <td>Warm</td>\n",
       "    </tr>\n",
       "    <tr>\n",
       "      <th>2</th>\n",
       "      <td>Wednesday</td>\n",
       "      <td>22</td>\n",
       "      <td>2025-04-17</td>\n",
       "      <td>Cool</td>\n",
       "    </tr>\n",
       "    <tr>\n",
       "      <th>3</th>\n",
       "      <td>Thursday</td>\n",
       "      <td>32</td>\n",
       "      <td>2025-04-18</td>\n",
       "      <td>Hot</td>\n",
       "    </tr>\n",
       "    <tr>\n",
       "      <th>4</th>\n",
       "      <td>Friday</td>\n",
       "      <td>50</td>\n",
       "      <td>2025-04-19</td>\n",
       "      <td>Hot</td>\n",
       "    </tr>\n",
       "    <tr>\n",
       "      <th>5</th>\n",
       "      <td>Tuesday</td>\n",
       "      <td>30</td>\n",
       "      <td>2025-04-20</td>\n",
       "      <td>Warm</td>\n",
       "    </tr>\n",
       "  </tbody>\n",
       "</table>\n",
       "</div>"
      ],
      "text/plain": [
       "         day  temp       date temp_category\n",
       "0     Monday    25 2025-04-15          Cool\n",
       "1    Tuesday    30 2025-04-16          Warm\n",
       "2  Wednesday    22 2025-04-17          Cool\n",
       "3   Thursday    32 2025-04-18           Hot\n",
       "4     Friday    50 2025-04-19           Hot\n",
       "5    Tuesday    30 2025-04-20          Warm"
      ]
     },
     "execution_count": 71,
     "metadata": {},
     "output_type": "execute_result"
    }
   ],
   "source": [
    "with open(\"../data/cleaned_weather_data.json\") as file:\n",
    "    data = json.load(file)\n",
    "    \n",
    "\n",
    "data = pd.DataFrame(data)\n",
    "\n",
    "data['date'] = pd.to_datetime(data['date'], unit='ms')\n",
    "data"
   ]
  }
 ],
 "metadata": {
  "kernelspec": {
   "display_name": "venv",
   "language": "python",
   "name": "python3"
  },
  "language_info": {
   "codemirror_mode": {
    "name": "ipython",
    "version": 3
   },
   "file_extension": ".py",
   "mimetype": "text/x-python",
   "name": "python",
   "nbconvert_exporter": "python",
   "pygments_lexer": "ipython3",
   "version": "3.12.0"
  }
 },
 "nbformat": 4,
 "nbformat_minor": 5
}
